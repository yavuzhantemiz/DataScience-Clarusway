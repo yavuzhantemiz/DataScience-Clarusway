{
  "nbformat": 4,
  "nbformat_minor": 0,
  "metadata": {
    "colab": {
      "name": "22Sept.ipynb",
      "provenance": [],
      "collapsed_sections": []
    },
    "kernelspec": {
      "name": "python3",
      "display_name": "Python 3"
    },
    "language_info": {
      "name": "python"
    }
  },
  "cells": [
    {
      "cell_type": "code",
      "metadata": {
        "id": "wUdvh_9rV6gy"
      },
      "source": [
        "import numpy as np"
      ],
      "execution_count": 1,
      "outputs": []
    },
    {
      "cell_type": "code",
      "metadata": {
        "colab": {
          "base_uri": "https://localhost:8080/"
        },
        "id": "IFBMNI3dV_Jd",
        "outputId": "6a2d90bf-fadf-4a0e-f36f-2c10480d2390"
      },
      "source": [
        "np.arange(1,5)"
      ],
      "execution_count": 2,
      "outputs": [
        {
          "output_type": "execute_result",
          "data": {
            "text/plain": [
              "array([1, 2, 3, 4])"
            ]
          },
          "metadata": {},
          "execution_count": 2
        }
      ]
    },
    {
      "cell_type": "code",
      "metadata": {
        "colab": {
          "base_uri": "https://localhost:8080/"
        },
        "id": "iJaAKGbFWEMx",
        "outputId": "8c2e2e43-890e-43c5-b535-209a2417c364"
      },
      "source": [
        "np.linspace(1,20,5,retstep=True)"
      ],
      "execution_count": 7,
      "outputs": [
        {
          "output_type": "execute_result",
          "data": {
            "text/plain": [
              "(array([ 1.  ,  5.75, 10.5 , 15.25, 20.  ]), 4.75)"
            ]
          },
          "metadata": {},
          "execution_count": 7
        }
      ]
    },
    {
      "cell_type": "code",
      "metadata": {
        "colab": {
          "base_uri": "https://localhost:8080/"
        },
        "id": "MWEoj1pKWGxp",
        "outputId": "56bb48af-e72f-4087-bbc1-35cb995a7c4c"
      },
      "source": [
        "np.random.random_sample(5)"
      ],
      "execution_count": 11,
      "outputs": [
        {
          "output_type": "execute_result",
          "data": {
            "text/plain": [
              "array([0.17410376, 0.51177722, 0.90740179, 0.72489752, 0.31929277])"
            ]
          },
          "metadata": {},
          "execution_count": 11
        }
      ]
    },
    {
      "cell_type": "code",
      "metadata": {
        "colab": {
          "base_uri": "https://localhost:8080/"
        },
        "id": "7lweW2eyolYO",
        "outputId": "8ee6c002-80b5-46b2-c3ab-7c59e64907d9"
      },
      "source": [
        "np.random.randint(10,20)"
      ],
      "execution_count": 44,
      "outputs": [
        {
          "output_type": "execute_result",
          "data": {
            "text/plain": [
              "14"
            ]
          },
          "metadata": {},
          "execution_count": 44
        }
      ]
    },
    {
      "cell_type": "code",
      "metadata": {
        "colab": {
          "base_uri": "https://localhost:8080/"
        },
        "id": "SbX_3HdfXFiE",
        "outputId": "385996d6-65aa-48d6-c3d5-9253f7d89b38"
      },
      "source": [
        "np.random.rand(3,3)"
      ],
      "execution_count": 12,
      "outputs": [
        {
          "output_type": "execute_result",
          "data": {
            "text/plain": [
              "array([[0.82381243, 0.05761307, 0.22981175],\n",
              "       [0.76141565, 0.9418263 , 0.32340612],\n",
              "       [0.55843786, 0.57322108, 0.285665  ]])"
            ]
          },
          "metadata": {},
          "execution_count": 12
        }
      ]
    },
    {
      "cell_type": "code",
      "metadata": {
        "colab": {
          "base_uri": "https://localhost:8080/"
        },
        "id": "RYEhJoEOXrxn",
        "outputId": "786c7aa5-9edf-46a7-a0a6-bfff46884582"
      },
      "source": [
        "np.random.randint(10,size=(5,5))"
      ],
      "execution_count": 29,
      "outputs": [
        {
          "output_type": "execute_result",
          "data": {
            "text/plain": [
              "array([[9, 0, 8, 1, 0],\n",
              "       [6, 3, 6, 8, 1],\n",
              "       [6, 9, 6, 4, 2],\n",
              "       [4, 7, 7, 3, 6],\n",
              "       [2, 9, 9, 3, 5]])"
            ]
          },
          "metadata": {},
          "execution_count": 29
        }
      ]
    },
    {
      "cell_type": "code",
      "metadata": {
        "colab": {
          "base_uri": "https://localhost:8080/"
        },
        "id": "CEvTgXFcX2XU",
        "outputId": "c91da024-d71e-4a91-f5c6-7457fa603233"
      },
      "source": [
        "my_arr = np.arange(10).reshape(2,5)\n",
        "np.random.shuffle(my_arr)\n",
        "my_arr"
      ],
      "execution_count": 28,
      "outputs": [
        {
          "output_type": "execute_result",
          "data": {
            "text/plain": [
              "array([[5, 6, 7, 8, 9],\n",
              "       [0, 1, 2, 3, 4]])"
            ]
          },
          "metadata": {},
          "execution_count": 28
        }
      ]
    },
    {
      "cell_type": "code",
      "metadata": {
        "colab": {
          "base_uri": "https://localhost:8080/"
        },
        "id": "ccMaEztKYvTu",
        "outputId": "caeef4df-caed-45bb-daed-b64113f363da"
      },
      "source": [
        "s = (3,3)\n",
        "np.zeros(s)"
      ],
      "execution_count": 30,
      "outputs": [
        {
          "output_type": "execute_result",
          "data": {
            "text/plain": [
              "array([[0., 0., 0.],\n",
              "       [0., 0., 0.],\n",
              "       [0., 0., 0.]])"
            ]
          },
          "metadata": {},
          "execution_count": 30
        }
      ]
    },
    {
      "cell_type": "code",
      "metadata": {
        "colab": {
          "base_uri": "https://localhost:8080/"
        },
        "id": "fDp4-l1TZlp8",
        "outputId": "5ef4881d-be1f-42e3-df41-0ff302d46788"
      },
      "source": [
        "np.eye(5)"
      ],
      "execution_count": 33,
      "outputs": [
        {
          "output_type": "execute_result",
          "data": {
            "text/plain": [
              "array([[1., 0., 0., 0., 0.],\n",
              "       [0., 1., 0., 0., 0.],\n",
              "       [0., 0., 1., 0., 0.],\n",
              "       [0., 0., 0., 1., 0.],\n",
              "       [0., 0., 0., 0., 1.]])"
            ]
          },
          "metadata": {},
          "execution_count": 33
        }
      ]
    },
    {
      "cell_type": "code",
      "metadata": {
        "colab": {
          "base_uri": "https://localhost:8080/"
        },
        "id": "JYUwVqv2mCDh",
        "outputId": "637a8b6b-629a-49e4-b4fe-1617ea51de6a"
      },
      "source": [
        "np.max(np.random.random_sample(10))"
      ],
      "execution_count": 35,
      "outputs": [
        {
          "output_type": "execute_result",
          "data": {
            "text/plain": [
              "0.9239149238785347"
            ]
          },
          "metadata": {},
          "execution_count": 35
        }
      ]
    },
    {
      "cell_type": "code",
      "metadata": {
        "colab": {
          "base_uri": "https://localhost:8080/"
        },
        "id": "DokCdox7mSUY",
        "outputId": "ff3f6dfe-298b-4a72-84e5-bfa46fc25911"
      },
      "source": [
        "np.min(np.random.random_sample(10))"
      ],
      "execution_count": 36,
      "outputs": [
        {
          "output_type": "execute_result",
          "data": {
            "text/plain": [
              "0.03555342719247423"
            ]
          },
          "metadata": {},
          "execution_count": 36
        }
      ]
    },
    {
      "cell_type": "code",
      "metadata": {
        "colab": {
          "base_uri": "https://localhost:8080/"
        },
        "id": "1e0YCpfGmaPK",
        "outputId": "dcdc270d-e9bb-43b7-e0e7-6d7ad6d40fe6"
      },
      "source": [
        "np.argmax(np.random.random_sample(10))"
      ],
      "execution_count": 37,
      "outputs": [
        {
          "output_type": "execute_result",
          "data": {
            "text/plain": [
              "1"
            ]
          },
          "metadata": {},
          "execution_count": 37
        }
      ]
    },
    {
      "cell_type": "code",
      "metadata": {
        "colab": {
          "base_uri": "https://localhost:8080/"
        },
        "id": "_vFU2JDImcjS",
        "outputId": "bf02ab89-0bda-444b-d94d-fc222b0d3bd9"
      },
      "source": [
        "np.argmin(np.random.random_sample(10))"
      ],
      "execution_count": 42,
      "outputs": [
        {
          "output_type": "execute_result",
          "data": {
            "text/plain": [
              "3"
            ]
          },
          "metadata": {},
          "execution_count": 42
        }
      ]
    },
    {
      "cell_type": "code",
      "metadata": {
        "colab": {
          "base_uri": "https://localhost:8080/"
        },
        "id": "IbVVEe9Sme8e",
        "outputId": "5ebc0381-ac06-47fe-a537-ae0801483dce"
      },
      "source": [
        "np.ndim([[[1,2,3],[4,5,6]]])"
      ],
      "execution_count": 56,
      "outputs": [
        {
          "output_type": "execute_result",
          "data": {
            "text/plain": [
              "3"
            ]
          },
          "metadata": {},
          "execution_count": 56
        }
      ]
    },
    {
      "cell_type": "code",
      "metadata": {
        "colab": {
          "base_uri": "https://localhost:8080/"
        },
        "id": "gYSmjOSfp1Zq",
        "outputId": "bcbbf46f-1945-414d-c9a1-85c9dbff11b6"
      },
      "source": [
        "\n",
        "np.size(np.arange(10,15,2))"
      ],
      "execution_count": 58,
      "outputs": [
        {
          "output_type": "execute_result",
          "data": {
            "text/plain": [
              "3"
            ]
          },
          "metadata": {},
          "execution_count": 58
        }
      ]
    },
    {
      "cell_type": "code",
      "metadata": {
        "colab": {
          "base_uri": "https://localhost:8080/"
        },
        "id": "e4MB_Wloqd0p",
        "outputId": "c473a851-bcf6-4479-cbe0-47407fcc6b47"
      },
      "source": [
        "np.split(np.arange(10,20),2)"
      ],
      "execution_count": 64,
      "outputs": [
        {
          "output_type": "execute_result",
          "data": {
            "text/plain": [
              "[array([10, 11, 12, 13, 14]), array([15, 16, 17, 18, 19])]"
            ]
          },
          "metadata": {},
          "execution_count": 64
        }
      ]
    },
    {
      "cell_type": "code",
      "metadata": {
        "colab": {
          "base_uri": "https://localhost:8080/"
        },
        "id": "5o4x6VBoq2VF",
        "outputId": "ff8038af-b8e6-40ac-a5fb-07d1c26fd83d"
      },
      "source": [
        "a = np.arange(6).reshape(3,2)\n",
        "b = np.arange(6,12).reshape(3,2)\n",
        "np.vstack((a,b))\n"
      ],
      "execution_count": 65,
      "outputs": [
        {
          "output_type": "execute_result",
          "data": {
            "text/plain": [
              "array([[ 0,  1],\n",
              "       [ 2,  3],\n",
              "       [ 4,  5],\n",
              "       [ 6,  7],\n",
              "       [ 8,  9],\n",
              "       [10, 11]])"
            ]
          },
          "metadata": {},
          "execution_count": 65
        }
      ]
    },
    {
      "cell_type": "code",
      "metadata": {
        "colab": {
          "base_uri": "https://localhost:8080/"
        },
        "id": "khRi8k-d2PsQ",
        "outputId": "efd5b8db-455a-4dff-b172-f24e447974a6"
      },
      "source": [
        "a = np.arange(6).reshape(3,2)\n",
        "b = np.arange(6,12).reshape(3,2)\n",
        "c = np.hstack((a,b))\n",
        "c\n"
      ],
      "execution_count": 68,
      "outputs": [
        {
          "output_type": "execute_result",
          "data": {
            "text/plain": [
              "array([[ 0,  1,  6,  7],\n",
              "       [ 2,  3,  8,  9],\n",
              "       [ 4,  5, 10, 11]])"
            ]
          },
          "metadata": {},
          "execution_count": 68
        }
      ]
    },
    {
      "cell_type": "code",
      "metadata": {
        "colab": {
          "base_uri": "https://localhost:8080/"
        },
        "id": "7NjzqelV3DVI",
        "outputId": "7d59291c-4f68-4b73-9329-72b99dc8321d"
      },
      "source": [
        "d = c > 5\n",
        "d"
      ],
      "execution_count": 70,
      "outputs": [
        {
          "output_type": "execute_result",
          "data": {
            "text/plain": [
              "array([[False, False,  True,  True],\n",
              "       [False, False,  True,  True],\n",
              "       [False, False,  True,  True]])"
            ]
          },
          "metadata": {},
          "execution_count": 70
        }
      ]
    },
    {
      "cell_type": "code",
      "metadata": {
        "colab": {
          "base_uri": "https://localhost:8080/"
        },
        "id": "7VNmeHbr3FoO",
        "outputId": "a177a53c-dd5a-4b75-e84d-350b8eb773fb"
      },
      "source": [
        "c[d]"
      ],
      "execution_count": 71,
      "outputs": [
        {
          "output_type": "execute_result",
          "data": {
            "text/plain": [
              "array([ 6,  7,  8,  9, 10, 11])"
            ]
          },
          "metadata": {},
          "execution_count": 71
        }
      ]
    },
    {
      "cell_type": "code",
      "metadata": {
        "colab": {
          "base_uri": "https://localhost:8080/"
        },
        "id": "yrcGTBGX3RAd",
        "outputId": "9c8aa522-25e9-4464-80b7-56fb449c5265"
      },
      "source": [
        "c[d] = -1\n",
        "c"
      ],
      "execution_count": 74,
      "outputs": [
        {
          "output_type": "execute_result",
          "data": {
            "text/plain": [
              "array([[ 0,  1, -1, -1],\n",
              "       [ 2,  3, -1, -1],\n",
              "       [ 4,  5, -1, -1]])"
            ]
          },
          "metadata": {},
          "execution_count": 74
        }
      ]
    },
    {
      "cell_type": "code",
      "metadata": {
        "id": "0JRKU-Et3cAA"
      },
      "source": [
        "arr_2d = np.array(([5,10,15],[20,25,30],[35,40,50]))"
      ],
      "execution_count": 75,
      "outputs": []
    },
    {
      "cell_type": "code",
      "metadata": {
        "colab": {
          "base_uri": "https://localhost:8080/"
        },
        "id": "K7kFl4Y7-_mC",
        "outputId": "8cc514c2-e91d-4d29-8b35-97dcb16ab41f"
      },
      "source": [
        "arr_2d[:1,1:]"
      ],
      "execution_count": 76,
      "outputs": [
        {
          "output_type": "execute_result",
          "data": {
            "text/plain": [
              "array([[10, 15]])"
            ]
          },
          "metadata": {},
          "execution_count": 76
        }
      ]
    }
  ]
}