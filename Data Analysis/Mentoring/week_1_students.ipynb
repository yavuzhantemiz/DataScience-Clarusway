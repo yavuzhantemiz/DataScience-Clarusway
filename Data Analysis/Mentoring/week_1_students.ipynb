{
  "nbformat": 4,
  "nbformat_minor": 5,
  "metadata": {
    "kernelspec": {
      "display_name": "Python 3",
      "language": "python",
      "name": "python3"
    },
    "language_info": {
      "codemirror_mode": {
        "name": "ipython",
        "version": 3
      },
      "file_extension": ".py",
      "mimetype": "text/x-python",
      "name": "python",
      "nbconvert_exporter": "python",
      "pygments_lexer": "ipython3",
      "version": "3.8.5"
    },
    "colab": {
      "name": "week_1_students.ipynb",
      "provenance": []
    }
  },
  "cells": [
    {
      "cell_type": "markdown",
      "metadata": {
        "id": "outer-patient"
      },
      "source": [
        "# **Import Numpy Library**"
      ],
      "id": "outer-patient"
    },
    {
      "cell_type": "code",
      "metadata": {
        "id": "2203fcda"
      },
      "source": [
        "import numpy as np"
      ],
      "id": "2203fcda",
      "execution_count": null,
      "outputs": []
    },
    {
      "cell_type": "markdown",
      "metadata": {
        "id": "4a86560f"
      },
      "source": [
        "**https://www.w3resource.com/python-exercises/numpy/index-array.php**\n",
        "- Numpy Questions: 4, 8, 9, 10, 12, 14, 19"
      ],
      "id": "4a86560f"
    },
    {
      "cell_type": "markdown",
      "metadata": {
        "id": "every-dividend"
      },
      "source": [
        "**4. Write a NumPy program to create a null vector of size 10 and update sixth value to 11.**\n",
        "<br>[ 0. 0. 0. 0. 0. 0. 0. 0. 0. 0.]\n",
        "<br>Update sixth value to 11\n",
        "<br>[ 0. 0. 0. 0. 0. 0. 11. 0. 0. 0.]"
      ],
      "id": "every-dividend"
    },
    {
      "cell_type": "code",
      "metadata": {
        "id": "MlhsCACJyRsh"
      },
      "source": [
        "import numpy as np"
      ],
      "id": "MlhsCACJyRsh",
      "execution_count": 2,
      "outputs": []
    },
    {
      "cell_type": "code",
      "metadata": {
        "colab": {
          "base_uri": "https://localhost:8080/"
        },
        "id": "seven-failing",
        "outputId": "d8bf874a-7ada-4d34-d0d9-c9884d37144b"
      },
      "source": [
        "a = np.zeros(10)\n",
        "a\n"
      ],
      "id": "seven-failing",
      "execution_count": 12,
      "outputs": [
        {
          "output_type": "execute_result",
          "data": {
            "text/plain": [
              "array([0., 0., 0., 0., 0., 0., 0., 0., 0., 0.])"
            ]
          },
          "metadata": {},
          "execution_count": 12
        }
      ]
    },
    {
      "cell_type": "code",
      "metadata": {
        "colab": {
          "base_uri": "https://localhost:8080/"
        },
        "id": "requested-lambda",
        "outputId": "bd04893b-1ab3-4b12-d202-08d58f5a8cd6"
      },
      "source": [
        "print(\"Update sixth value to 11\")\n",
        "a[6] = 11\n",
        "a"
      ],
      "id": "requested-lambda",
      "execution_count": 10,
      "outputs": [
        {
          "output_type": "stream",
          "name": "stdout",
          "text": [
            "Update sixth value to 11\n"
          ]
        },
        {
          "output_type": "execute_result",
          "data": {
            "text/plain": [
              "array([ 0.,  0.,  0.,  0.,  0.,  0., 11.,  0.,  0.,  0.])"
            ]
          },
          "metadata": {},
          "execution_count": 10
        }
      ]
    },
    {
      "cell_type": "markdown",
      "metadata": {
        "id": "serious-victim"
      },
      "source": [
        "**8. Write a NumPy program to create a 2d array with 1 on the border and 0 inside.**\n",
        "![image-4.png](attachment:image-4.png)"
      ],
      "id": "serious-victim"
    },
    {
      "cell_type": "code",
      "metadata": {
        "colab": {
          "base_uri": "https://localhost:8080/"
        },
        "id": "answering-paintball",
        "outputId": "a84de1e1-db7a-4b7e-a567-f90dcda2eb23"
      },
      "source": [
        "print(\"Original array:\")\n",
        "a = np.ones((5,5))\n",
        "a"
      ],
      "id": "answering-paintball",
      "execution_count": 30,
      "outputs": [
        {
          "output_type": "stream",
          "name": "stdout",
          "text": [
            "Original array:\n"
          ]
        },
        {
          "output_type": "execute_result",
          "data": {
            "text/plain": [
              "array([[1., 1., 1., 1., 1.],\n",
              "       [1., 1., 1., 1., 1.],\n",
              "       [1., 1., 1., 1., 1.],\n",
              "       [1., 1., 1., 1., 1.],\n",
              "       [1., 1., 1., 1., 1.]])"
            ]
          },
          "metadata": {},
          "execution_count": 30
        }
      ]
    },
    {
      "cell_type": "code",
      "metadata": {
        "colab": {
          "base_uri": "https://localhost:8080/"
        },
        "id": "XQ2yYg3KzkNr",
        "outputId": "ca3da645-41ae-41d7-d89e-60b0b73e6bd9"
      },
      "source": [
        "print(\"1 on the border and 0 inside in the array\")\n",
        "a[1:4,1:(len(a)-1)] = 0\n",
        "a"
      ],
      "id": "XQ2yYg3KzkNr",
      "execution_count": 33,
      "outputs": [
        {
          "output_type": "stream",
          "name": "stdout",
          "text": [
            "1 on the border and 0 inside in the array\n"
          ]
        },
        {
          "output_type": "execute_result",
          "data": {
            "text/plain": [
              "array([[1., 1., 1., 1., 1.],\n",
              "       [1., 0., 0., 0., 1.],\n",
              "       [1., 0., 0., 0., 1.],\n",
              "       [1., 0., 0., 0., 1.],\n",
              "       [1., 1., 1., 1., 1.]])"
            ]
          },
          "metadata": {},
          "execution_count": 33
        }
      ]
    },
    {
      "cell_type": "markdown",
      "metadata": {
        "id": "virgin-warehouse"
      },
      "source": [
        "**9. Write a NumPy program to add a border (filled with 0's) around an existing array.**\n",
        "![image-2.png](attachment:image-2.png)"
      ],
      "id": "virgin-warehouse"
    },
    {
      "cell_type": "code",
      "metadata": {
        "colab": {
          "base_uri": "https://localhost:8080/"
        },
        "id": "psychological-trouble",
        "outputId": "ac972309-8b9e-4073-c1a9-67a7c7f62f0d"
      },
      "source": [
        "print(\"Original array:\")\n",
        "a = np.ones((3,3))\n",
        "a"
      ],
      "id": "psychological-trouble",
      "execution_count": 36,
      "outputs": [
        {
          "output_type": "stream",
          "name": "stdout",
          "text": [
            "Original array:\n"
          ]
        },
        {
          "output_type": "execute_result",
          "data": {
            "text/plain": [
              "array([[1., 1., 1.],\n",
              "       [1., 1., 1.],\n",
              "       [1., 1., 1.]])"
            ]
          },
          "metadata": {},
          "execution_count": 36
        }
      ]
    },
    {
      "cell_type": "code",
      "metadata": {
        "colab": {
          "base_uri": "https://localhost:8080/"
        },
        "id": "eKAApPrg3YJk",
        "outputId": "456bbaac-b576-4545-a720-6aeea3568cd9"
      },
      "source": [
        "b = np.zeros((5,5))\n",
        "b[1:4,1:4] = a\n",
        "b"
      ],
      "id": "eKAApPrg3YJk",
      "execution_count": 37,
      "outputs": [
        {
          "output_type": "execute_result",
          "data": {
            "text/plain": [
              "array([[0., 0., 0., 0., 0.],\n",
              "       [0., 1., 1., 1., 0.],\n",
              "       [0., 1., 1., 1., 0.],\n",
              "       [0., 1., 1., 1., 0.],\n",
              "       [0., 0., 0., 0., 0.]])"
            ]
          },
          "metadata": {},
          "execution_count": 37
        }
      ]
    },
    {
      "cell_type": "code",
      "metadata": {
        "id": "scientific-academy",
        "outputId": "61888eed-a9ef-4de8-f243-33e73761b0dd"
      },
      "source": [
        "print(\"0 on the border and 1 inside in the array\")\n",
        "\n",
        "# ..."
      ],
      "id": "scientific-academy",
      "execution_count": null,
      "outputs": [
        {
          "name": "stdout",
          "output_type": "stream",
          "text": [
            "0 on the border and 1 inside in the array\n",
            "[[0. 0. 0. 0. 0.]\n",
            " [0. 1. 1. 1. 0.]\n",
            " [0. 1. 1. 1. 0.]\n",
            " [0. 1. 1. 1. 0.]\n",
            " [0. 0. 0. 0. 0.]]\n"
          ]
        }
      ]
    },
    {
      "cell_type": "markdown",
      "metadata": {
        "id": "given-champion"
      },
      "source": [
        "**10. Write a NumPy program to create a 8x8 matrix and fill it with a checkerboard pattern.**\n",
        "![image.png](attachment:image.png)"
      ],
      "id": "given-champion"
    },
    {
      "cell_type": "code",
      "metadata": {
        "colab": {
          "base_uri": "https://localhost:8080/"
        },
        "id": "specific-animal",
        "outputId": "32c780e0-5bd0-4a67-f378-42a766740bba"
      },
      "source": [
        "a = np.zeros((8,8))\n",
        "a[1::2,::2]=1\n",
        "a[::2,1::2]=1\n",
        "a"
      ],
      "id": "specific-animal",
      "execution_count": 47,
      "outputs": [
        {
          "output_type": "execute_result",
          "data": {
            "text/plain": [
              "array([[0., 1., 0., 1., 0., 1., 0., 1.],\n",
              "       [1., 0., 1., 0., 1., 0., 1., 0.],\n",
              "       [0., 1., 0., 1., 0., 1., 0., 1.],\n",
              "       [1., 0., 1., 0., 1., 0., 1., 0.],\n",
              "       [0., 1., 0., 1., 0., 1., 0., 1.],\n",
              "       [1., 0., 1., 0., 1., 0., 1., 0.],\n",
              "       [0., 1., 0., 1., 0., 1., 0., 1.],\n",
              "       [1., 0., 1., 0., 1., 0., 1., 0.]])"
            ]
          },
          "metadata": {},
          "execution_count": 47
        }
      ]
    },
    {
      "cell_type": "markdown",
      "metadata": {
        "id": "reverse-brook"
      },
      "source": [
        "**12. Write a NumPy program to append values to the end of an array.**\n",
        "![image-2.png](attachment:image-2.png)"
      ],
      "id": "reverse-brook"
    },
    {
      "cell_type": "code",
      "metadata": {
        "colab": {
          "base_uri": "https://localhost:8080/"
        },
        "id": "random-helping",
        "outputId": "04473d16-ac39-46aa-9d09-b9031d30c975"
      },
      "source": [
        "print(\"Original array:\")\n",
        "a = np.array([10,20,30])\n",
        "print(a)"
      ],
      "id": "random-helping",
      "execution_count": 58,
      "outputs": [
        {
          "output_type": "stream",
          "name": "stdout",
          "text": [
            "Original array:\n",
            "[10 20 30]\n"
          ]
        }
      ]
    },
    {
      "cell_type": "code",
      "metadata": {
        "colab": {
          "base_uri": "https://localhost:8080/"
        },
        "id": "driven-concord",
        "outputId": "5a0078c6-520e-49ad-d847-5477ff4ea8df"
      },
      "source": [
        "print(\"After append values to the end of the array:\")\n",
        "a = np.append(a,[40,50,60,70,80,90])\n",
        "print(a)\n"
      ],
      "id": "driven-concord",
      "execution_count": 59,
      "outputs": [
        {
          "output_type": "stream",
          "name": "stdout",
          "text": [
            "After append values to the end of the array:\n",
            "[10 20 30 40 50 60 70 80 90]\n"
          ]
        }
      ]
    },
    {
      "cell_type": "markdown",
      "metadata": {
        "id": "compact-married"
      },
      "source": [
        "**14. Write a NumPy program to convert the values of Centigrade degrees into Fahrenheit degrees. Centigrade values are stored into a NumPy array.**\n",
        "![image.png](attachment:image.png)"
      ],
      "id": "compact-married"
    },
    {
      "cell_type": "code",
      "metadata": {
        "colab": {
          "base_uri": "https://localhost:8080/"
        },
        "id": "yHTjEman7f8p",
        "outputId": "fd65f40f-c72e-43be-fbed-69ed348a0e01"
      },
      "source": [
        "print(\"Values in Fahrenheit degrees:\")\n",
        "a= np.array([0,12,45.21,34,99.91])\n",
        "a"
      ],
      "id": "yHTjEman7f8p",
      "execution_count": 61,
      "outputs": [
        {
          "output_type": "stream",
          "name": "stdout",
          "text": [
            "Values in Fahrenheit degrees:\n"
          ]
        },
        {
          "output_type": "execute_result",
          "data": {
            "text/plain": [
              "array([ 0.  , 12.  , 45.21, 34.  , 99.91])"
            ]
          },
          "metadata": {},
          "execution_count": 61
        }
      ]
    },
    {
      "cell_type": "code",
      "metadata": {
        "colab": {
          "base_uri": "https://localhost:8080/"
        },
        "id": "educated-finger",
        "outputId": "7aabc32e-bea7-4c4a-ac81-5f73f231d127"
      },
      "source": [
        "print(\"Values in  Centigrade degrees:\") \n",
        "print(5*a/9 - 5*32/9)\n"
      ],
      "id": "educated-finger",
      "execution_count": 63,
      "outputs": [
        {
          "output_type": "stream",
          "name": "stdout",
          "text": [
            "Values in  Centigrade degrees:\n",
            "[-17.77777778 -11.11111111   7.33888889   1.11111111  37.72777778]\n"
          ]
        }
      ]
    },
    {
      "cell_type": "markdown",
      "metadata": {
        "id": "derived-practitioner"
      },
      "source": [
        "**19. Write a NumPy program to get the unique elements of an array.**\n",
        "![image.png](attachment:image.png)"
      ],
      "id": "derived-practitioner"
    },
    {
      "cell_type": "code",
      "metadata": {
        "colab": {
          "base_uri": "https://localhost:8080/"
        },
        "id": "atlantic-sitting",
        "outputId": "56fdcdeb-5d55-4178-b441-902e2e979c48"
      },
      "source": [
        "print(\"Original array:\")\n",
        "a = np.array([10,10,20,20,30,30])\n",
        "a"
      ],
      "id": "atlantic-sitting",
      "execution_count": 65,
      "outputs": [
        {
          "output_type": "stream",
          "name": "stdout",
          "text": [
            "Original array:\n"
          ]
        },
        {
          "output_type": "execute_result",
          "data": {
            "text/plain": [
              "array([10, 10, 20, 20, 30, 30])"
            ]
          },
          "metadata": {},
          "execution_count": 65
        }
      ]
    },
    {
      "cell_type": "code",
      "metadata": {
        "colab": {
          "base_uri": "https://localhost:8080/"
        },
        "id": "physical-garlic",
        "outputId": "f07d5e97-d44e-4955-bd7f-fd374509c93d"
      },
      "source": [
        "print(\"Unique elements of the above array:\")\n",
        "b = np.unique(a)\n",
        "b"
      ],
      "id": "physical-garlic",
      "execution_count": 67,
      "outputs": [
        {
          "output_type": "stream",
          "name": "stdout",
          "text": [
            "Unique elements of the above array:\n"
          ]
        },
        {
          "output_type": "execute_result",
          "data": {
            "text/plain": [
              "array([10, 20, 30])"
            ]
          },
          "metadata": {},
          "execution_count": 67
        }
      ]
    },
    {
      "cell_type": "code",
      "metadata": {
        "colab": {
          "base_uri": "https://localhost:8080/"
        },
        "id": "scheduled-consequence",
        "outputId": "75b2c5dd-aa71-464a-8720-d022a8e8c8c0"
      },
      "source": [
        "print(\"Original array:\")\n",
        "a = np.array([[1,1],[2,3]])\n",
        "a\n"
      ],
      "id": "scheduled-consequence",
      "execution_count": 78,
      "outputs": [
        {
          "output_type": "stream",
          "name": "stdout",
          "text": [
            "Original array:\n"
          ]
        },
        {
          "output_type": "execute_result",
          "data": {
            "text/plain": [
              "array([[1, 1],\n",
              "       [2, 3]])"
            ]
          },
          "metadata": {},
          "execution_count": 78
        }
      ]
    },
    {
      "cell_type": "code",
      "metadata": {
        "colab": {
          "base_uri": "https://localhost:8080/"
        },
        "id": "widespread-surveillance",
        "outputId": "525217a0-04ce-4e38-b6a8-af3ad67a8316"
      },
      "source": [
        "print(\"Unique elements of the above array:\")\n",
        "np.unique(a)\n"
      ],
      "id": "widespread-surveillance",
      "execution_count": 76,
      "outputs": [
        {
          "output_type": "stream",
          "name": "stdout",
          "text": [
            "Unique elements of the above array:\n"
          ]
        },
        {
          "output_type": "execute_result",
          "data": {
            "text/plain": [
              "array([1, 2, 3])"
            ]
          },
          "metadata": {},
          "execution_count": 76
        }
      ]
    },
    {
      "cell_type": "markdown",
      "metadata": {
        "id": "downtown-sauce"
      },
      "source": [
        "# **import Pandas Library**"
      ],
      "id": "downtown-sauce"
    },
    {
      "cell_type": "code",
      "metadata": {
        "id": "infectious-spotlight"
      },
      "source": [
        "import pandas as pd"
      ],
      "id": "infectious-spotlight",
      "execution_count": null,
      "outputs": []
    },
    {
      "cell_type": "markdown",
      "metadata": {
        "id": "3790dc46"
      },
      "source": [
        "**https://www.w3resource.com/python-exercises/pandas/index-data-series.php**\n",
        "- Pandas Questions: 2, 3, 5, 6, 13"
      ],
      "id": "3790dc46"
    },
    {
      "cell_type": "markdown",
      "metadata": {
        "id": "hollow-enhancement"
      },
      "source": [
        "**2. Write a Pandas program to convert a Pandas module Series to Python list and it's type.**"
      ],
      "id": "hollow-enhancement"
    },
    {
      "cell_type": "code",
      "metadata": {
        "id": "c7cacd5e"
      },
      "source": [
        "list_1 = [2, 4, 6, 8, 10]"
      ],
      "id": "c7cacd5e",
      "execution_count": null,
      "outputs": []
    },
    {
      "cell_type": "code",
      "metadata": {
        "id": "exceptional-vienna",
        "outputId": "704a88f8-5be7-441d-8ca9-53e13c80b171"
      },
      "source": [
        "# Convert the Python list to a Pandas Series \n",
        "print(\"Pandas Series and type\")\n",
        "\n",
        "# ...\n"
      ],
      "id": "exceptional-vienna",
      "execution_count": null,
      "outputs": [
        {
          "name": "stdout",
          "output_type": "stream",
          "text": [
            "Pandas Series and type\n",
            "0     2\n",
            "1     4\n",
            "2     6\n",
            "3     8\n",
            "4    10\n",
            "dtype: int64\n",
            "<class 'pandas.core.series.Series'>\n"
          ]
        }
      ]
    },
    {
      "cell_type": "code",
      "metadata": {
        "id": "neither-production",
        "outputId": "994a9bdd-d31a-41d7-bfa5-49871368c35f"
      },
      "source": [
        "# Convert the Pandas Series to Python list\n",
        "\n",
        "# ...\n"
      ],
      "id": "neither-production",
      "execution_count": null,
      "outputs": [
        {
          "name": "stdout",
          "output_type": "stream",
          "text": [
            "[2, 4, 6, 8, 10]\n",
            "<class 'list'>\n"
          ]
        }
      ]
    },
    {
      "cell_type": "markdown",
      "metadata": {
        "id": "confused-parade"
      },
      "source": [
        "**3. Write a Pandas program to add, subtract, multiple and divide two Pandas Series.**"
      ],
      "id": "confused-parade"
    },
    {
      "cell_type": "code",
      "metadata": {
        "id": "1aad2a90"
      },
      "source": [
        "list1 = [2, 4, 6, 8, 10]\n",
        "list2 = [1, 3, 5, 7, 9]"
      ],
      "id": "1aad2a90",
      "execution_count": null,
      "outputs": []
    },
    {
      "cell_type": "code",
      "metadata": {
        "id": "4ed60289"
      },
      "source": [
        "# Create two Pandas series with these lists\n",
        "\n",
        "# ...\n"
      ],
      "id": "4ed60289",
      "execution_count": null,
      "outputs": []
    },
    {
      "cell_type": "code",
      "metadata": {
        "id": "annual-rachel",
        "outputId": "b49458c2-fe33-45e7-b100-e74c271c9cf4"
      },
      "source": [
        "print(\"Add two Series:\")\n",
        "\n",
        "# ...\n"
      ],
      "id": "annual-rachel",
      "execution_count": null,
      "outputs": [
        {
          "name": "stdout",
          "output_type": "stream",
          "text": [
            "Add two Series:\n",
            "0     3\n",
            "1     7\n",
            "2    11\n",
            "3    15\n",
            "4    19\n",
            "dtype: int64\n"
          ]
        }
      ]
    },
    {
      "cell_type": "code",
      "metadata": {
        "id": "breathing-documentary",
        "outputId": "6bab8662-3727-4582-a61b-f1a9da11ed17"
      },
      "source": [
        "print(\"Subtract two Series:\")\n",
        "\n",
        "# ...\n"
      ],
      "id": "breathing-documentary",
      "execution_count": null,
      "outputs": [
        {
          "name": "stdout",
          "output_type": "stream",
          "text": [
            "Subtract two Series:\n",
            "0    1\n",
            "1    1\n",
            "2    1\n",
            "3    1\n",
            "4    1\n",
            "dtype: int64\n"
          ]
        }
      ]
    },
    {
      "cell_type": "code",
      "metadata": {
        "id": "personal-newsletter",
        "outputId": "949ba34e-71a2-49f2-d1d5-533676a90169"
      },
      "source": [
        "print(\"Multiply two Series:\")\n",
        "\n",
        "# ...\n"
      ],
      "id": "personal-newsletter",
      "execution_count": null,
      "outputs": [
        {
          "name": "stdout",
          "output_type": "stream",
          "text": [
            "Multiply two Series:\n",
            "0     2\n",
            "1    12\n",
            "2    30\n",
            "3    56\n",
            "4    90\n",
            "dtype: int64\n"
          ]
        }
      ]
    },
    {
      "cell_type": "code",
      "metadata": {
        "id": "sporting-theorem",
        "outputId": "aa60c1f9-6c3c-4bca-d2c2-809344d4c72a"
      },
      "source": [
        "print(\"Divide Series1 by Series2:\")\n",
        "\n",
        "# ...\n"
      ],
      "id": "sporting-theorem",
      "execution_count": null,
      "outputs": [
        {
          "name": "stdout",
          "output_type": "stream",
          "text": [
            "Divide Series1 by Series2:\n",
            "0    2.000000\n",
            "1    1.333333\n",
            "2    1.200000\n",
            "3    1.142857\n",
            "4    1.111111\n",
            "dtype: float64\n"
          ]
        }
      ]
    },
    {
      "cell_type": "markdown",
      "metadata": {
        "id": "competitive-fifteen"
      },
      "source": [
        "**5. Write a Pandas program to convert a dictionary to a Pandas series.**"
      ],
      "id": "competitive-fifteen"
    },
    {
      "cell_type": "code",
      "metadata": {
        "id": "0cd18195"
      },
      "source": [
        "keys=['a','b','c','d','e']\n",
        "values = [100, 200, 300, 400, 800]"
      ],
      "id": "0cd18195",
      "execution_count": null,
      "outputs": []
    },
    {
      "cell_type": "code",
      "metadata": {
        "id": "latin-torture",
        "outputId": "f78b07ff-2377-40fb-c7a5-5edecbae0ea7"
      },
      "source": [
        "# Create a dictionary from keys and values\n",
        "print(\"Original dictionary:\")\n",
        "\n",
        "# ...\n"
      ],
      "id": "latin-torture",
      "execution_count": null,
      "outputs": [
        {
          "name": "stdout",
          "output_type": "stream",
          "text": [
            "Original dictionary:\n",
            "{'a': 100, 'b': 200, 'c': 300, 'd': 400, 'e': 800}\n"
          ]
        }
      ]
    },
    {
      "cell_type": "code",
      "metadata": {
        "id": "rolled-transcript",
        "outputId": "7a6198d5-e8fd-4d5c-f55f-99d1d149e351"
      },
      "source": [
        "# Convert the dictionary to a Pandas series\n",
        "print(\"Converted series:\")\n",
        "\n",
        "# ...\n"
      ],
      "id": "rolled-transcript",
      "execution_count": null,
      "outputs": [
        {
          "name": "stdout",
          "output_type": "stream",
          "text": [
            "Converted series:\n",
            "a    100\n",
            "b    200\n",
            "c    300\n",
            "d    400\n",
            "e    800\n",
            "dtype: int64\n"
          ]
        }
      ]
    },
    {
      "cell_type": "markdown",
      "metadata": {
        "id": "olive-aircraft"
      },
      "source": [
        "**6. Write a Pandas program to convert a NumPy array to a Pandas series.**"
      ],
      "id": "olive-aircraft"
    },
    {
      "cell_type": "code",
      "metadata": {
        "id": "wired-contact",
        "outputId": "d89f8775-e34c-4865-fd20-50dd7bae5006"
      },
      "source": [
        "# Original Data : [10, 20, 30, 40, 50]\n",
        "# Create a numpy array with this data\n",
        "print(\"NumPy array:\")\n",
        "\n",
        "# ...\n"
      ],
      "id": "wired-contact",
      "execution_count": null,
      "outputs": [
        {
          "name": "stdout",
          "output_type": "stream",
          "text": [
            "NumPy array:\n",
            "[10 20 30 40 50]\n"
          ]
        }
      ]
    },
    {
      "cell_type": "code",
      "metadata": {
        "id": "returning-outline",
        "outputId": "32ef1a78-5499-4b42-9a14-723065637d3b"
      },
      "source": [
        "# Convert a NumPy array to this Pandas series.\n",
        "print(\"Converted Pandas series:\")\n",
        "\n",
        "# ...\n"
      ],
      "id": "returning-outline",
      "execution_count": null,
      "outputs": [
        {
          "name": "stdout",
          "output_type": "stream",
          "text": [
            "Converted Pandas series:\n",
            "0    10\n",
            "1    20\n",
            "2    30\n",
            "3    40\n",
            "4    50\n",
            "dtype: int32\n"
          ]
        }
      ]
    },
    {
      "cell_type": "markdown",
      "metadata": {
        "id": "charming-denial"
      },
      "source": [
        "**12. Write a Pandas program to add some data to an existing Series.**|"
      ],
      "id": "charming-denial"
    },
    {
      "cell_type": "code",
      "metadata": {
        "id": "painful-liquid",
        "outputId": "ab2546b4-5525-4b7b-c65f-b7ecb4022b53"
      },
      "source": [
        "# Original Data : ['100', '200', 'python', '300.12', '400']\n",
        "# Built a pandas Series with this data\n",
        "print(\"Original Data Series:\")\n",
        "# ..."
      ],
      "id": "painful-liquid",
      "execution_count": null,
      "outputs": [
        {
          "name": "stdout",
          "output_type": "stream",
          "text": [
            "Original Data Series:\n",
            "0       100\n",
            "1       200\n",
            "2    python\n",
            "3    300.12\n",
            "4       400\n",
            "dtype: object\n"
          ]
        }
      ]
    },
    {
      "cell_type": "code",
      "metadata": {
        "id": "hindu-paste",
        "outputId": "3d87487d-de14-4a52-987e-5bab8733b2e0"
      },
      "source": [
        "# Add ['500', 'php'] to the original Data Series\n",
        "print(\"\\nData Series after adding some data:\")\n",
        "\n",
        "# ...\n"
      ],
      "id": "hindu-paste",
      "execution_count": null,
      "outputs": [
        {
          "name": "stdout",
          "output_type": "stream",
          "text": [
            "\n",
            "Data Series after adding some data:\n",
            "0       100\n",
            "1       200\n",
            "2    python\n",
            "3    300.12\n",
            "4       400\n",
            "0       500\n",
            "1       php\n",
            "dtype: object\n"
          ]
        }
      ]
    },
    {
      "cell_type": "markdown",
      "metadata": {
        "id": "5bde9096"
      },
      "source": [
        "**13. Write a Pandas program to create a subset of a given series based on value and condition.**"
      ],
      "id": "5bde9096"
    },
    {
      "cell_type": "code",
      "metadata": {
        "id": "3e8a7f12",
        "outputId": "21bfd680-3824-43d8-fbef-14bea81b0c5e"
      },
      "source": [
        "# Original Data : [0,1,2,3,4,5,6,7,8,9,10]\n",
        "# Built a pandas Series with this data\n",
        "print(\"Original Data Series:\")\n",
        "\n",
        "# ...\n"
      ],
      "id": "3e8a7f12",
      "execution_count": null,
      "outputs": [
        {
          "name": "stdout",
          "output_type": "stream",
          "text": [
            "Original Data Series:\n",
            "0      0\n",
            "1      1\n",
            "2      2\n",
            "3      3\n",
            "4      4\n",
            "5      5\n",
            "6      6\n",
            "7      7\n",
            "8      8\n",
            "9      9\n",
            "10    10\n",
            "dtype: int64\n"
          ]
        }
      ]
    },
    {
      "cell_type": "code",
      "metadata": {
        "id": "a4dcdebf",
        "outputId": "001db6b2-05d7-48ca-d249-034e55fed797"
      },
      "source": [
        "# Create a new series with data with a value less than 6\n",
        "print(\"\\nSubset of the above Data Series:\")\n",
        "\n",
        "# ...\n"
      ],
      "id": "a4dcdebf",
      "execution_count": null,
      "outputs": [
        {
          "name": "stdout",
          "output_type": "stream",
          "text": [
            "\n",
            "Subset of the above Data Series:\n",
            "0    0\n",
            "1    1\n",
            "2    2\n",
            "3    3\n",
            "4    4\n",
            "5    5\n",
            "dtype: int64\n"
          ]
        }
      ]
    }
  ]
}