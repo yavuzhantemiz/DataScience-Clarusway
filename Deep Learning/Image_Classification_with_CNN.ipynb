{
  "metadata": {
    "kernelspec": {
      "language": "python",
      "display_name": "Python 3",
      "name": "python3"
    },
    "language_info": {
      "name": "python",
      "version": "3.7.12",
      "mimetype": "text/x-python",
      "codemirror_mode": {
        "name": "ipython",
        "version": 3
      },
      "pygments_lexer": "ipython3",
      "nbconvert_exporter": "python",
      "file_extension": ".py"
    },
    "colab": {
      "name": "image-classification-with-cnn.ipynb",
      "provenance": []
    },
    "accelerator": "GPU"
  },
  "nbformat_minor": 0,
  "nbformat": 4,
  "cells": [
    {
      "cell_type": "markdown",
      "source": [
        "\n",
        "# Image Classification with CNN\n",
        "\n",
        "\n",
        "Welcome to second assignment of Deep learning lesson. Follow the instructions and complete the assignment.\n",
        "\n",
        "------------\n",
        "\n",
        "## Task\n",
        "\n",
        "**Build an image classifier with Convolutional Neural Networks for the Fashion MNIST dataset. This data set includes 10 labels of different clothing types with 28 by 28 *grayscale* images. There is a training set of 60,000 images and 10,000 test images.**\n",
        "\n",
        "    Label\tDescription\n",
        "    0\t    T-shirt/top\n",
        "    1\t    Trouser\n",
        "    2\t    Pullover\n",
        "    3\t    Dress\n",
        "    4\t    Coat\n",
        "    5\t    Sandal\n",
        "    6\t    Shirt\n",
        "    7\t    Sneaker\n",
        "    8\t    Bag\n",
        "    9\t    Ankle boot\n",
        "    \n",
        " "
      ],
      "metadata": {
        "id": "-vMG4QBj309x"
      }
    },
    {
      "cell_type": "markdown",
      "source": [
        "## The Data\n",
        "\n",
        "**Download the fashion mnist dataset using Keras.**"
      ],
      "metadata": {
        "id": "EaQQtpLq3091"
      }
    },
    {
      "cell_type": "code",
      "source": [
        "from tensorflow.keras.datasets import fashion_mnist\n",
        "\n",
        "(x_train, y_train), (x_test, y_test) = fashion_mnist.load_data()"
      ],
      "metadata": {
        "execution": {
          "iopub.status.busy": "2022-03-27T09:57:26.272764Z",
          "iopub.execute_input": "2022-03-27T09:57:26.273398Z",
          "iopub.status.idle": "2022-03-27T09:57:32.774111Z",
          "shell.execute_reply.started": "2022-03-27T09:57:26.273311Z",
          "shell.execute_reply": "2022-03-27T09:57:32.773315Z"
        },
        "trusted": true,
        "colab": {
          "base_uri": "https://localhost:8080/"
        },
        "id": "ZQcw_1S63092",
        "outputId": "452f0e9d-3295-4edb-90a3-abc37d2b033b"
      },
      "execution_count": 1,
      "outputs": [
        {
          "output_type": "stream",
          "name": "stdout",
          "text": [
            "Downloading data from https://storage.googleapis.com/tensorflow/tf-keras-datasets/train-labels-idx1-ubyte.gz\n",
            "32768/29515 [=================================] - 0s 0us/step\n",
            "40960/29515 [=========================================] - 0s 0us/step\n",
            "Downloading data from https://storage.googleapis.com/tensorflow/tf-keras-datasets/train-images-idx3-ubyte.gz\n",
            "26427392/26421880 [==============================] - 0s 0us/step\n",
            "26435584/26421880 [==============================] - 0s 0us/step\n",
            "Downloading data from https://storage.googleapis.com/tensorflow/tf-keras-datasets/t10k-labels-idx1-ubyte.gz\n",
            "16384/5148 [===============================================================================================] - 0s 0us/step\n",
            "Downloading data from https://storage.googleapis.com/tensorflow/tf-keras-datasets/t10k-images-idx3-ubyte.gz\n",
            "4423680/4422102 [==============================] - 0s 0us/step\n",
            "4431872/4422102 [==============================] - 0s 0us/step\n"
          ]
        }
      ]
    },
    {
      "cell_type": "code",
      "source": [
        "test_data = (x_test, y_test)"
      ],
      "metadata": {
        "execution": {
          "iopub.status.busy": "2022-03-27T09:57:32.776012Z",
          "iopub.execute_input": "2022-03-27T09:57:32.776286Z",
          "iopub.status.idle": "2022-03-27T09:57:32.782690Z",
          "shell.execute_reply.started": "2022-03-27T09:57:32.776251Z",
          "shell.execute_reply": "2022-03-27T09:57:32.781720Z"
        },
        "trusted": true,
        "id": "px0zgJf_3093"
      },
      "execution_count": 2,
      "outputs": []
    },
    {
      "cell_type": "markdown",
      "source": [
        "## Visualizing the Data\n",
        "\n",
        "**Using matplotlib show an any image from the data set.**"
      ],
      "metadata": {
        "id": "0hOi-KST3094"
      }
    },
    {
      "cell_type": "code",
      "source": [
        "import pandas as pd\n",
        "import numpy as np\n",
        "import seaborn as sns\n",
        "import matplotlib.pyplot as plt\n",
        "from matplotlib.image import imread"
      ],
      "metadata": {
        "execution": {
          "iopub.status.busy": "2022-03-27T09:57:32.783775Z",
          "iopub.execute_input": "2022-03-27T09:57:32.784013Z",
          "iopub.status.idle": "2022-03-27T09:57:33.328040Z",
          "shell.execute_reply.started": "2022-03-27T09:57:32.783979Z",
          "shell.execute_reply": "2022-03-27T09:57:33.327244Z"
        },
        "trusted": true,
        "id": "mNWSmze83094"
      },
      "execution_count": 3,
      "outputs": []
    },
    {
      "cell_type": "code",
      "source": [
        "len(x_train)"
      ],
      "metadata": {
        "execution": {
          "iopub.status.busy": "2022-03-27T09:57:33.330017Z",
          "iopub.execute_input": "2022-03-27T09:57:33.330272Z",
          "iopub.status.idle": "2022-03-27T09:57:33.338629Z",
          "shell.execute_reply.started": "2022-03-27T09:57:33.330239Z",
          "shell.execute_reply": "2022-03-27T09:57:33.337874Z"
        },
        "trusted": true,
        "colab": {
          "base_uri": "https://localhost:8080/"
        },
        "id": "H5PDmxrW3095",
        "outputId": "f1d7df4e-db75-4db7-d72e-75469f566c20"
      },
      "execution_count": 4,
      "outputs": [
        {
          "output_type": "execute_result",
          "data": {
            "text/plain": [
              "60000"
            ]
          },
          "metadata": {},
          "execution_count": 4
        }
      ]
    },
    {
      "cell_type": "code",
      "source": [
        "len(y_train)"
      ],
      "metadata": {
        "execution": {
          "iopub.status.busy": "2022-03-27T09:57:33.340090Z",
          "iopub.execute_input": "2022-03-27T09:57:33.340558Z",
          "iopub.status.idle": "2022-03-27T09:57:33.348588Z",
          "shell.execute_reply.started": "2022-03-27T09:57:33.340519Z",
          "shell.execute_reply": "2022-03-27T09:57:33.347784Z"
        },
        "trusted": true,
        "colab": {
          "base_uri": "https://localhost:8080/"
        },
        "id": "N2AJUCas3096",
        "outputId": "e3eceb98-d614-426e-a129-f045d66d50f8"
      },
      "execution_count": 5,
      "outputs": [
        {
          "output_type": "execute_result",
          "data": {
            "text/plain": [
              "60000"
            ]
          },
          "metadata": {},
          "execution_count": 5
        }
      ]
    },
    {
      "cell_type": "code",
      "source": [
        "len(x_test)"
      ],
      "metadata": {
        "execution": {
          "iopub.status.busy": "2022-03-27T09:57:33.349894Z",
          "iopub.execute_input": "2022-03-27T09:57:33.350406Z",
          "iopub.status.idle": "2022-03-27T09:57:33.357647Z",
          "shell.execute_reply.started": "2022-03-27T09:57:33.350371Z",
          "shell.execute_reply": "2022-03-27T09:57:33.356792Z"
        },
        "trusted": true,
        "colab": {
          "base_uri": "https://localhost:8080/"
        },
        "id": "rKTbtN7j3096",
        "outputId": "e78cac3e-7e19-4e99-bcd9-e06b81c6b1a3"
      },
      "execution_count": 6,
      "outputs": [
        {
          "output_type": "execute_result",
          "data": {
            "text/plain": [
              "10000"
            ]
          },
          "metadata": {},
          "execution_count": 6
        }
      ]
    },
    {
      "cell_type": "code",
      "source": [
        "len(y_test)"
      ],
      "metadata": {
        "execution": {
          "iopub.status.busy": "2022-03-27T09:57:33.359088Z",
          "iopub.execute_input": "2022-03-27T09:57:33.359352Z",
          "iopub.status.idle": "2022-03-27T09:57:33.364373Z",
          "shell.execute_reply.started": "2022-03-27T09:57:33.359318Z",
          "shell.execute_reply": "2022-03-27T09:57:33.363713Z"
        },
        "trusted": true,
        "colab": {
          "base_uri": "https://localhost:8080/"
        },
        "id": "xdBjfz533097",
        "outputId": "1bc9b21c-7b63-476c-9d83-18d46e494813"
      },
      "execution_count": 7,
      "outputs": [
        {
          "output_type": "execute_result",
          "data": {
            "text/plain": [
              "10000"
            ]
          },
          "metadata": {},
          "execution_count": 7
        }
      ]
    },
    {
      "cell_type": "code",
      "source": [
        "plt.imshow(x_train[np.random.randint(1,60001)])"
      ],
      "metadata": {
        "execution": {
          "iopub.status.busy": "2022-03-27T09:57:33.366093Z",
          "iopub.execute_input": "2022-03-27T09:57:33.366549Z",
          "iopub.status.idle": "2022-03-27T09:57:33.572428Z",
          "shell.execute_reply.started": "2022-03-27T09:57:33.366516Z",
          "shell.execute_reply": "2022-03-27T09:57:33.571695Z"
        },
        "trusted": true,
        "colab": {
          "base_uri": "https://localhost:8080/",
          "height": 282
        },
        "id": "FgHPiGHB3098",
        "outputId": "15e917a5-a2ec-4860-e559-93c7ff7e39a3"
      },
      "execution_count": 8,
      "outputs": [
        {
          "output_type": "execute_result",
          "data": {
            "text/plain": [
              "<matplotlib.image.AxesImage at 0x7fd657a26490>"
            ]
          },
          "metadata": {},
          "execution_count": 8
        },
        {
          "output_type": "display_data",
          "data": {
            "text/plain": [
              "<Figure size 432x288 with 1 Axes>"
            ],
            "image/png": "[encoded data removed]"
          },
          "metadata": {
            "needs_background": "light"
          }
        }
      ]
    },
    {
      "cell_type": "code",
      "source": [
        "y_train"
      ],
      "metadata": {
        "execution": {
          "iopub.status.busy": "2022-03-27T09:57:33.573662Z",
          "iopub.execute_input": "2022-03-27T09:57:33.574103Z",
          "iopub.status.idle": "2022-03-27T09:57:33.582212Z",
          "shell.execute_reply.started": "2022-03-27T09:57:33.574063Z",
          "shell.execute_reply": "2022-03-27T09:57:33.581550Z"
        },
        "trusted": true,
        "colab": {
          "base_uri": "https://localhost:8080/"
        },
        "id": "W9UbrYyL3098",
        "outputId": "ff2d4d61-5eb4-41ba-b1d8-c6ffb732bcea"
      },
      "execution_count": 9,
      "outputs": [
        {
          "output_type": "execute_result",
          "data": {
            "text/plain": [
              "array([9, 0, 0, ..., 3, 0, 5], dtype=uint8)"
            ]
          },
          "metadata": {},
          "execution_count": 9
        }
      ]
    },
    {
      "cell_type": "markdown",
      "source": [
        "## Preprocessing the Data\n",
        "\n",
        "**Normalize the X train and X test using max value of the image arrays.**"
      ],
      "metadata": {
        "id": "_BGWLWLx3098"
      }
    },
    {
      "cell_type": "code",
      "source": [
        "trainX = x_train.reshape((x_train.shape[0], 28, 28, 1))\n",
        "testX = x_test.reshape((x_test.shape[0], 28, 28, 1))"
      ],
      "metadata": {
        "execution": {
          "iopub.status.busy": "2022-03-27T09:57:33.585227Z",
          "iopub.execute_input": "2022-03-27T09:57:33.585408Z",
          "iopub.status.idle": "2022-03-27T09:57:33.591739Z",
          "shell.execute_reply.started": "2022-03-27T09:57:33.585386Z",
          "shell.execute_reply": "2022-03-27T09:57:33.590878Z"
        },
        "trusted": true,
        "id": "ENiNW1il3099"
      },
      "execution_count": 10,
      "outputs": []
    },
    {
      "cell_type": "code",
      "source": [
        "trainX = trainX/255\n",
        "testX = testX/255"
      ],
      "metadata": {
        "execution": {
          "iopub.status.busy": "2022-03-27T09:57:33.593005Z",
          "iopub.execute_input": "2022-03-27T09:57:33.593453Z",
          "iopub.status.idle": "2022-03-27T09:57:33.734633Z",
          "shell.execute_reply.started": "2022-03-27T09:57:33.593419Z",
          "shell.execute_reply": "2022-03-27T09:57:33.733886Z"
        },
        "trusted": true,
        "id": "jOPFeaKU3099"
      },
      "execution_count": 11,
      "outputs": []
    },
    {
      "cell_type": "code",
      "source": [
        "plt.imshow(x_test[50])"
      ],
      "metadata": {
        "execution": {
          "iopub.status.busy": "2022-03-27T09:57:33.735790Z",
          "iopub.execute_input": "2022-03-27T09:57:33.736050Z",
          "iopub.status.idle": "2022-03-27T09:57:33.919642Z",
          "shell.execute_reply.started": "2022-03-27T09:57:33.736017Z",
          "shell.execute_reply": "2022-03-27T09:57:33.918998Z"
        },
        "trusted": true,
        "colab": {
          "base_uri": "https://localhost:8080/",
          "height": 282
        },
        "id": "DBlEikJy3099",
        "outputId": "e133eec2-de01-40fb-fa40-989094c558a4"
      },
      "execution_count": 12,
      "outputs": [
        {
          "output_type": "execute_result",
          "data": {
            "text/plain": [
              "<matplotlib.image.AxesImage at 0x7fd657590910>"
            ]
          },
          "metadata": {},
          "execution_count": 12
        },
        {
          "output_type": "display_data",
          "data": {
            "text/plain": [
              "<Figure size 432x288 with 1 Axes>"
            ],
            "image/png": "[encoded data removed]"
          },
          "metadata": {
            "needs_background": "light"
          }
        }
      ]
    },
    {
      "cell_type": "markdown",
      "source": [
        "**Convert the y_train and y_test values to be one-hot encoded for categorical analysis.**"
      ],
      "metadata": {
        "id": "PNNPyKsC309-"
      }
    },
    {
      "cell_type": "code",
      "source": [
        "from keras.models import Sequential\n",
        "from keras.layers import Dense,Conv2D,Dropout,MaxPooling2D,Flatten\n",
        "from keras.utils import np_utils"
      ],
      "metadata": {
        "execution": {
          "iopub.status.busy": "2022-03-27T09:57:33.920784Z",
          "iopub.execute_input": "2022-03-27T09:57:33.921038Z",
          "iopub.status.idle": "2022-03-27T09:57:33.925719Z",
          "shell.execute_reply.started": "2022-03-27T09:57:33.921004Z",
          "shell.execute_reply": "2022-03-27T09:57:33.924957Z"
        },
        "trusted": true,
        "id": "oEpIY8by309-"
      },
      "execution_count": 13,
      "outputs": []
    },
    {
      "cell_type": "code",
      "source": [
        "trainY = np_utils.to_categorical(y_train,10)\n",
        "testY = np_utils.to_categorical(y_test,10)"
      ],
      "metadata": {
        "execution": {
          "iopub.status.busy": "2022-03-27T09:57:33.926935Z",
          "iopub.execute_input": "2022-03-27T09:57:33.927971Z",
          "iopub.status.idle": "2022-03-27T09:57:33.937084Z",
          "shell.execute_reply.started": "2022-03-27T09:57:33.927928Z",
          "shell.execute_reply": "2022-03-27T09:57:33.936312Z"
        },
        "trusted": true,
        "id": "uvSP38vS309-"
      },
      "execution_count": 14,
      "outputs": []
    },
    {
      "cell_type": "markdown",
      "source": [
        "## Building the Model\n",
        "\n",
        "**Create the model**\n",
        "\n",
        "* 2D Convolutional Layer, filters=28 and kernel_size=(3,3)\n",
        "* Pooling Layer where pool_size = (2,2) strides=(1,1)\n",
        "\n",
        "* Flatten Layer\n",
        "* Dense Layer (128 Neurons, but feel free to play around with this value), RELU activation\n",
        "\n",
        "* Final Dense Layer of 10 Neurons with a softmax activation\n",
        "\n",
        "**Then compile the model with these parameters: loss='categorical_crossentropy', optimizer='rmsprop', metrics=['accuracy']**"
      ],
      "metadata": {
        "id": "drMps_62309_"
      }
    },
    {
      "cell_type": "code",
      "source": [
        "classifier = Sequential()\n",
        "classifier.add(Conv2D(filters=32, kernel_size=(3,3),strides=(1, 1), input_shape=(28,28,1), activation='relu'))\n",
        "classifier.add(MaxPooling2D(pool_size=(2,2)))\n",
        "classifier.add(Conv2D(filters=64, kernel_size=(3,3),strides=(1, 1), activation='relu'))\n",
        "classifier.add(MaxPooling2D(pool_size=(2,2)))\n",
        "classifier.add(Flatten())\n",
        "classifier.add(Dense(units=128,activation='relu'))\n",
        "classifier.add(Dropout(rate=0.2))\n",
        "classifier.add(Dense(units=10, activation='softmax'))"
      ],
      "metadata": {
        "execution": {
          "iopub.status.busy": "2022-03-27T09:57:33.938521Z",
          "iopub.execute_input": "2022-03-27T09:57:33.938889Z",
          "iopub.status.idle": "2022-03-27T09:57:36.293996Z",
          "shell.execute_reply.started": "2022-03-27T09:57:33.938854Z",
          "shell.execute_reply": "2022-03-27T09:57:36.292084Z"
        },
        "trusted": true,
        "id": "yeS1Gcl_309_"
      },
      "execution_count": 15,
      "outputs": []
    },
    {
      "cell_type": "code",
      "source": [
        "classifier.compile(optimizer='adam',loss='categorical_crossentropy',metrics=['accuracy'])"
      ],
      "metadata": {
        "execution": {
          "iopub.status.busy": "2022-03-27T09:57:36.295378Z",
          "iopub.execute_input": "2022-03-27T09:57:36.295700Z",
          "iopub.status.idle": "2022-03-27T09:57:36.309036Z",
          "shell.execute_reply.started": "2022-03-27T09:57:36.295662Z",
          "shell.execute_reply": "2022-03-27T09:57:36.308228Z"
        },
        "trusted": true,
        "id": "uyUwMFyf30-A"
      },
      "execution_count": 16,
      "outputs": []
    },
    {
      "cell_type": "code",
      "source": [
        "classifier.summary()\n"
      ],
      "metadata": {
        "execution": {
          "iopub.status.busy": "2022-03-27T09:57:36.310663Z",
          "iopub.execute_input": "2022-03-27T09:57:36.311010Z",
          "iopub.status.idle": "2022-03-27T09:57:36.320755Z",
          "shell.execute_reply.started": "2022-03-27T09:57:36.310974Z",
          "shell.execute_reply": "2022-03-27T09:57:36.319857Z"
        },
        "trusted": true,
        "colab": {
          "base_uri": "https://localhost:8080/"
        },
        "id": "vApi8zDs30-A",
        "outputId": "8bf693d1-67ee-4d82-b85c-ad045f531317"
      },
      "execution_count": 17,
      "outputs": [
        {
          "output_type": "stream",
          "name": "stdout",
          "text": [
            "Model: \"sequential\"\n",
            "_________________________________________________________________\n",
            " Layer (type)                Output Shape              Param #   \n",
            "=================================================================\n",
            " conv2d (Conv2D)             (None, 26, 26, 32)        320       \n",
            "                                                                 \n",
            " max_pooling2d (MaxPooling2D  (None, 13, 13, 32)       0         \n",
            " )                                                               \n",
            "                                                                 \n",
            " conv2d_1 (Conv2D)           (None, 11, 11, 64)        18496     \n",
            "                                                                 \n",
            " max_pooling2d_1 (MaxPooling  (None, 5, 5, 64)         0         \n",
            " 2D)                                                             \n",
            "                                                                 \n",
            " flatten (Flatten)           (None, 1600)              0         \n",
            "                                                                 \n",
            " dense (Dense)               (None, 128)               204928    \n",
            "                                                                 \n",
            " dropout (Dropout)           (None, 128)               0         \n",
            "                                                                 \n",
            " dense_1 (Dense)             (None, 10)                1290      \n",
            "                                                                 \n",
            "=================================================================\n",
            "Total params: 225,034\n",
            "Trainable params: 225,034\n",
            "Non-trainable params: 0\n",
            "_________________________________________________________________\n"
          ]
        }
      ]
    },
    {
      "cell_type": "markdown",
      "source": [
        "###  Model Training \n",
        "\n",
        "**Train the model with arbitrary amount of epochs.**"
      ],
      "metadata": {
        "id": "Am-EAuYH30-A"
      }
    },
    {
      "cell_type": "code",
      "source": [
        "model = classifier.fit(trainX, trainY,\n",
        " batch_size=128, epochs=20,\n",
        " verbose=2,\n",
        " validation_data=(testX, testY))"
      ],
      "metadata": {
        "execution": {
          "iopub.status.busy": "2022-03-27T09:57:36.322467Z",
          "iopub.execute_input": "2022-03-27T09:57:36.322746Z",
          "iopub.status.idle": "2022-03-27T09:58:18.232182Z",
          "shell.execute_reply.started": "2022-03-27T09:57:36.322711Z",
          "shell.execute_reply": "2022-03-27T09:58:18.231259Z"
        },
        "trusted": true,
        "colab": {
          "base_uri": "https://localhost:8080/"
        },
        "id": "SAtVqb4W30-A",
        "outputId": "e8bfc1d4-095e-459c-da7a-78a87c5bf4b9"
      },
      "execution_count": 18,
      "outputs": [
        {
          "output_type": "stream",
          "name": "stdout",
          "text": [
            "Epoch 1/20\n",
            "469/469 - 21s - loss: 0.5695 - accuracy: 0.7948 - val_loss: 0.4087 - val_accuracy: 0.8472 - 21s/epoch - 44ms/step\n",
            "Epoch 2/20\n",
            "469/469 - 6s - loss: 0.3670 - accuracy: 0.8664 - val_loss: 0.3433 - val_accuracy: 0.8743 - 6s/epoch - 13ms/step\n",
            "Epoch 3/20\n",
            "469/469 - 4s - loss: 0.3163 - accuracy: 0.8836 - val_loss: 0.3111 - val_accuracy: 0.8846 - 4s/epoch - 9ms/step\n",
            "Epoch 4/20\n",
            "469/469 - 4s - loss: 0.2864 - accuracy: 0.8949 - val_loss: 0.2898 - val_accuracy: 0.8956 - 4s/epoch - 8ms/step\n",
            "Epoch 5/20\n",
            "469/469 - 4s - loss: 0.2629 - accuracy: 0.9033 - val_loss: 0.2769 - val_accuracy: 0.8970 - 4s/epoch - 8ms/step\n",
            "Epoch 6/20\n",
            "469/469 - 4s - loss: 0.2443 - accuracy: 0.9104 - val_loss: 0.2658 - val_accuracy: 0.9038 - 4s/epoch - 8ms/step\n",
            "Epoch 7/20\n",
            "469/469 - 4s - loss: 0.2283 - accuracy: 0.9156 - val_loss: 0.2699 - val_accuracy: 0.9016 - 4s/epoch - 8ms/step\n",
            "Epoch 8/20\n",
            "469/469 - 4s - loss: 0.2157 - accuracy: 0.9206 - val_loss: 0.2557 - val_accuracy: 0.9058 - 4s/epoch - 8ms/step\n",
            "Epoch 9/20\n",
            "469/469 - 4s - loss: 0.2013 - accuracy: 0.9241 - val_loss: 0.2464 - val_accuracy: 0.9089 - 4s/epoch - 8ms/step\n",
            "Epoch 10/20\n",
            "469/469 - 4s - loss: 0.1914 - accuracy: 0.9288 - val_loss: 0.2458 - val_accuracy: 0.9097 - 4s/epoch - 8ms/step\n",
            "Epoch 11/20\n",
            "469/469 - 4s - loss: 0.1778 - accuracy: 0.9334 - val_loss: 0.2635 - val_accuracy: 0.9090 - 4s/epoch - 8ms/step\n",
            "Epoch 12/20\n",
            "469/469 - 4s - loss: 0.1648 - accuracy: 0.9391 - val_loss: 0.2460 - val_accuracy: 0.9134 - 4s/epoch - 8ms/step\n",
            "Epoch 13/20\n",
            "469/469 - 4s - loss: 0.1567 - accuracy: 0.9408 - val_loss: 0.2459 - val_accuracy: 0.9144 - 4s/epoch - 8ms/step\n",
            "Epoch 14/20\n",
            "469/469 - 4s - loss: 0.1487 - accuracy: 0.9440 - val_loss: 0.2597 - val_accuracy: 0.9138 - 4s/epoch - 8ms/step\n",
            "Epoch 15/20\n",
            "469/469 - 4s - loss: 0.1374 - accuracy: 0.9488 - val_loss: 0.2484 - val_accuracy: 0.9157 - 4s/epoch - 8ms/step\n",
            "Epoch 16/20\n",
            "469/469 - 4s - loss: 0.1299 - accuracy: 0.9510 - val_loss: 0.2529 - val_accuracy: 0.9170 - 4s/epoch - 8ms/step\n",
            "Epoch 17/20\n",
            "469/469 - 4s - loss: 0.1206 - accuracy: 0.9543 - val_loss: 0.2534 - val_accuracy: 0.9173 - 4s/epoch - 8ms/step\n",
            "Epoch 18/20\n",
            "469/469 - 4s - loss: 0.1145 - accuracy: 0.9572 - val_loss: 0.2768 - val_accuracy: 0.9090 - 4s/epoch - 8ms/step\n",
            "Epoch 19/20\n",
            "469/469 - 4s - loss: 0.1076 - accuracy: 0.9594 - val_loss: 0.2681 - val_accuracy: 0.9178 - 4s/epoch - 8ms/step\n",
            "Epoch 20/20\n",
            "469/469 - 4s - loss: 0.0999 - accuracy: 0.9626 - val_loss: 0.2937 - val_accuracy: 0.9142 - 4s/epoch - 8ms/step\n"
          ]
        }
      ]
    },
    {
      "cell_type": "markdown",
      "source": [
        "**Plot values of metrics you used in your model.**"
      ],
      "metadata": {
        "id": "oUd5udQf30-B"
      }
    },
    {
      "cell_type": "code",
      "source": [
        "summary = pd.DataFrame(classifier.history.history)\n",
        "summary.head()"
      ],
      "metadata": {
        "execution": {
          "iopub.status.busy": "2022-03-27T09:58:18.233626Z",
          "iopub.execute_input": "2022-03-27T09:58:18.235004Z",
          "iopub.status.idle": "2022-03-27T09:58:18.254738Z",
          "shell.execute_reply.started": "2022-03-27T09:58:18.234961Z",
          "shell.execute_reply": "2022-03-27T09:58:18.253902Z"
        },
        "trusted": true,
        "colab": {
          "base_uri": "https://localhost:8080/",
          "height": 206
        },
        "id": "6GqfM_AY30-B",
        "outputId": "74c341e0-2bbb-4b61-b356-49f2131ee035"
      },
      "execution_count": 19,
      "outputs": [
        {
          "output_type": "execute_result",
          "data": {
            "text/plain": [
              "       loss  accuracy  val_loss  val_accuracy\n",
              "0  0.569508  0.794783  0.408701        0.8472\n",
              "1  0.367006  0.866433  0.343283        0.8743\n",
              "2  0.316350  0.883617  0.311145        0.8846\n",
              "3  0.286420  0.894933  0.289831        0.8956\n",
              "4  0.262915  0.903283  0.276900        0.8970"
            ],
            "text/html": [
              "\n",
              "  <div id=\"df-5388469d-b031-4164-a7cd-1eeb6ecf35cc\">\n",
              "    <div class=\"colab-df-container\">\n",
              "      <div>\n",
              "<style scoped>\n",
              "    .dataframe tbody tr th:only-of-type {\n",
              "        vertical-align: middle;\n",
              "    }\n",
              "\n",
              "    .dataframe tbody tr th {\n",
              "        vertical-align: top;\n",
              "    }\n",
              "\n",
              "    .dataframe thead th {\n",
              "        text-align: right;\n",
              "    }\n",
              "</style>\n",
              "<table border=\"1\" class=\"dataframe\">\n",
              "  <thead>\n",
              "    <tr style=\"text-align: right;\">\n",
              "      <th></th>\n",
              "      <th>loss</th>\n",
              "      <th>accuracy</th>\n",
              "      <th>val_loss</th>\n",
              "      <th>val_accuracy</th>\n",
              "    </tr>\n",
              "  </thead>\n",
              "  <tbody>\n",
              "    <tr>\n",
              "      <th>0</th>\n",
              "      <td>0.569508</td>\n",
              "      <td>0.794783</td>\n",
              "      <td>0.408701</td>\n",
              "      <td>0.8472</td>\n",
              "    </tr>\n",
              "    <tr>\n",
              "      <th>1</th>\n",
              "      <td>0.367006</td>\n",
              "      <td>0.866433</td>\n",
              "      <td>0.343283</td>\n",
              "      <td>0.8743</td>\n",
              "    </tr>\n",
              "    <tr>\n",
              "      <th>2</th>\n",
              "      <td>0.316350</td>\n",
              "      <td>0.883617</td>\n",
              "      <td>0.311145</td>\n",
              "      <td>0.8846</td>\n",
              "    </tr>\n",
              "    <tr>\n",
              "      <th>3</th>\n",
              "      <td>0.286420</td>\n",
              "      <td>0.894933</td>\n",
              "      <td>0.289831</td>\n",
              "      <td>0.8956</td>\n",
              "    </tr>\n",
              "    <tr>\n",
              "      <th>4</th>\n",
              "      <td>0.262915</td>\n",
              "      <td>0.903283</td>\n",
              "      <td>0.276900</td>\n",
              "      <td>0.8970</td>\n",
              "    </tr>\n",
              "  </tbody>\n",
              "</table>\n",
              "</div>\n",
              "      <button class=\"colab-df-convert\" onclick=\"convertToInteractive('df-5388469d-b031-4164-a7cd-1eeb6ecf35cc')\"\n",
              "              title=\"Convert this dataframe to an interactive table.\"\n",
              "              style=\"display:none;\">\n",
              "        \n",
              "  <svg xmlns=\"http://www.w3.org/2000/svg\" height=\"24px\"viewBox=\"0 0 24 24\"\n",
              "       width=\"24px\">\n",
              "    <path d=\"M0 0h24v24H0V0z\" fill=\"none\"/>\n",
              "    <path d=\"M18.56 5.44l.94 2.06.94-2.06 2.06-.94-2.06-.94-.94-2.06-.94 2.06-2.06.94zm-11 1L8.5 8.5l.94-2.06 2.06-.94-2.06-.94L8.5 2.5l-.94 2.06-2.06.94zm10 10l.94 2.06.94-2.06 2.06-.94-2.06-.94-.94-2.06-.94 2.06-2.06.94z\"/><path d=\"M17.41 7.96l-1.37-1.37c-.4-.4-.92-.59-1.43-.59-.52 0-1.04.2-1.43.59L10.3 9.45l-7.72 7.72c-.78.78-.78 2.05 0 2.83L4 21.41c.39.39.9.59 1.41.59.51 0 1.02-.2 1.41-.59l7.78-7.78 2.81-2.81c.8-.78.8-2.07 0-2.86zM5.41 20L4 18.59l7.72-7.72 1.47 1.35L5.41 20z\"/>\n",
              "  </svg>\n",
              "      </button>\n",
              "      \n",
              "  <style>\n",
              "    .colab-df-container {\n",
              "      display:flex;\n",
              "      flex-wrap:wrap;\n",
              "      gap: 12px;\n",
              "    }\n",
              "\n",
              "    .colab-df-convert {\n",
              "      background-color: #E8F0FE;\n",
              "      border: none;\n",
              "      border-radius: 50%;\n",
              "      cursor: pointer;\n",
              "      display: none;\n",
              "      fill: #1967D2;\n",
              "      height: 32px;\n",
              "      padding: 0 0 0 0;\n",
              "      width: 32px;\n",
              "    }\n",
              "\n",
              "    .colab-df-convert:hover {\n",
              "      background-color: #E2EBFA;\n",
              "      box-shadow: 0px 1px 2px rgba(60, 64, 67, 0.3), 0px 1px 3px 1px rgba(60, 64, 67, 0.15);\n",
              "      fill: #174EA6;\n",
              "    }\n",
              "\n",
              "    [theme=dark] .colab-df-convert {\n",
              "      background-color: #3B4455;\n",
              "      fill: #D2E3FC;\n",
              "    }\n",
              "\n",
              "    [theme=dark] .colab-df-convert:hover {\n",
              "      background-color: #434B5C;\n",
              "      box-shadow: 0px 1px 3px 1px rgba(0, 0, 0, 0.15);\n",
              "      filter: drop-shadow(0px 1px 2px rgba(0, 0, 0, 0.3));\n",
              "      fill: #FFFFFF;\n",
              "    }\n",
              "  </style>\n",
              "\n",
              "      <script>\n",
              "        const buttonEl =\n",
              "          document.querySelector('#df-5388469d-b031-4164-a7cd-1eeb6ecf35cc button.colab-df-convert');\n",
              "        buttonEl.style.display =\n",
              "          google.colab.kernel.accessAllowed ? 'block' : 'none';\n",
              "\n",
              "        async function convertToInteractive(key) {\n",
              "          const element = document.querySelector('#df-5388469d-b031-4164-a7cd-1eeb6ecf35cc');\n",
              "          const dataTable =\n",
              "            await google.colab.kernel.invokeFunction('convertToInteractive',\n",
              "                                                     [key], {});\n",
              "          if (!dataTable) return;\n",
              "\n",
              "          const docLinkHtml = 'Like what you see? Visit the ' +\n",
              "            '<a target=\"_blank\" href=https://colab.research.google.com/notebooks/data_table.ipynb>data table notebook</a>'\n",
              "            + ' to learn more about interactive tables.';\n",
              "          element.innerHTML = '';\n",
              "          dataTable['output_type'] = 'display_data';\n",
              "          await google.colab.output.renderOutput(dataTable, element);\n",
              "          const docLink = document.createElement('div');\n",
              "          docLink.innerHTML = docLinkHtml;\n",
              "          element.appendChild(docLink);\n",
              "        }\n",
              "      </script>\n",
              "    </div>\n",
              "  </div>\n",
              "  "
            ]
          },
          "metadata": {},
          "execution_count": 19
        }
      ]
    },
    {
      "cell_type": "code",
      "source": [
        "plt.figure(figsize=(10,6))\n",
        "plt.plot(summary.loss, label=\"loss\")\n",
        "plt.plot(summary.val_loss, label=\"val_loss\")\n",
        "plt.legend(loc=\"upper right\")\n",
        "plt.ylabel(\"Loss\")\n",
        "plt.xlabel(\"Epoch\")\n",
        "plt.show()"
      ],
      "metadata": {
        "execution": {
          "iopub.status.busy": "2022-03-27T09:58:18.256303Z",
          "iopub.execute_input": "2022-03-27T09:58:18.256564Z",
          "iopub.status.idle": "2022-03-27T09:58:18.455961Z",
          "shell.execute_reply.started": "2022-03-27T09:58:18.256528Z",
          "shell.execute_reply": "2022-03-27T09:58:18.455251Z"
        },
        "trusted": true,
        "colab": {
          "base_uri": "https://localhost:8080/",
          "height": 388
        },
        "id": "L_xgdg0O30-B",
        "outputId": "b272f4d1-4934-4086-9a19-7aceaee5992a"
      },
      "execution_count": 20,
      "outputs": [
        {
          "output_type": "display_data",
          "data": {
            "text/plain": [
              "<Figure size 720x432 with 1 Axes>"
            ],
            "image/png": "[encoded data removed]"
          },
          "metadata": {
            "needs_background": "light"
          }
        }
      ]
    },
    {
      "cell_type": "markdown",
      "source": [
        "**Train the model using earlystop.**"
      ],
      "metadata": {
        "id": "mxaH0Guu30-B"
      }
    },
    {
      "cell_type": "code",
      "source": [
        "from tensorflow.keras.callbacks import EarlyStopping"
      ],
      "metadata": {
        "execution": {
          "iopub.status.busy": "2022-03-27T09:58:18.457224Z",
          "iopub.execute_input": "2022-03-27T09:58:18.457590Z",
          "iopub.status.idle": "2022-03-27T09:58:18.462328Z",
          "shell.execute_reply.started": "2022-03-27T09:58:18.457554Z",
          "shell.execute_reply": "2022-03-27T09:58:18.461411Z"
        },
        "trusted": true,
        "id": "L5S5vhlx30-C"
      },
      "execution_count": 21,
      "outputs": []
    },
    {
      "cell_type": "code",
      "source": [
        "early_stop = EarlyStopping(monitor='val_loss',patience=5)"
      ],
      "metadata": {
        "execution": {
          "iopub.status.busy": "2022-03-27T09:58:18.463901Z",
          "iopub.execute_input": "2022-03-27T09:58:18.464371Z",
          "iopub.status.idle": "2022-03-27T09:58:18.471176Z",
          "shell.execute_reply.started": "2022-03-27T09:58:18.464335Z",
          "shell.execute_reply": "2022-03-27T09:58:18.470306Z"
        },
        "trusted": true,
        "id": "2mNooXe630-C"
      },
      "execution_count": 22,
      "outputs": []
    },
    {
      "cell_type": "code",
      "source": [
        "classifier = Sequential()\n",
        "classifier.add(Conv2D(filters=32, kernel_size=(3,3),strides=(1, 1), input_shape=(28,28,1), activation='relu'))\n",
        "classifier.add(MaxPooling2D(pool_size=(2,2)))\n",
        "classifier.add(Conv2D(filters=64, kernel_size=(3,3),strides=(1, 1), activation='relu'))\n",
        "classifier.add(MaxPooling2D(pool_size=(2,2)))\n",
        "classifier.add(Flatten())\n",
        "classifier.add(Dense(units=128,activation='relu'))\n",
        "classifier.add(Dropout(rate=0.2))\n",
        "classifier.add(Dense(units=10, activation='softmax'))"
      ],
      "metadata": {
        "execution": {
          "iopub.status.busy": "2022-03-27T09:58:18.472585Z",
          "iopub.execute_input": "2022-03-27T09:58:18.473007Z",
          "iopub.status.idle": "2022-03-27T09:58:18.525414Z",
          "shell.execute_reply.started": "2022-03-27T09:58:18.472972Z",
          "shell.execute_reply": "2022-03-27T09:58:18.524726Z"
        },
        "trusted": true,
        "id": "K1Q6w0D830-C"
      },
      "execution_count": 23,
      "outputs": []
    },
    {
      "cell_type": "code",
      "source": [
        "classifier.compile(optimizer='adam',loss='categorical_crossentropy',metrics=['accuracy'])"
      ],
      "metadata": {
        "execution": {
          "iopub.status.busy": "2022-03-27T09:58:18.526693Z",
          "iopub.execute_input": "2022-03-27T09:58:18.526968Z",
          "iopub.status.idle": "2022-03-27T09:58:18.536096Z",
          "shell.execute_reply.started": "2022-03-27T09:58:18.526935Z",
          "shell.execute_reply": "2022-03-27T09:58:18.535018Z"
        },
        "trusted": true,
        "id": "-HxH5C1C30-C"
      },
      "execution_count": 24,
      "outputs": []
    },
    {
      "cell_type": "code",
      "source": [
        "model = classifier.fit(trainX, trainY,\n",
        " batch_size=128, epochs=30,\n",
        " verbose=2,\n",
        " validation_data=(testX, testY),callbacks=[early_stop])"
      ],
      "metadata": {
        "execution": {
          "iopub.status.busy": "2022-03-27T09:58:18.537793Z",
          "iopub.execute_input": "2022-03-27T09:58:18.538060Z",
          "iopub.status.idle": "2022-03-27T09:58:47.802683Z",
          "shell.execute_reply.started": "2022-03-27T09:58:18.538027Z",
          "shell.execute_reply": "2022-03-27T09:58:47.801820Z"
        },
        "trusted": true,
        "colab": {
          "base_uri": "https://localhost:8080/"
        },
        "id": "YiY6GNeG30-D",
        "outputId": "3e8472a2-054c-4651-b7b4-ad8e3846c082"
      },
      "execution_count": 25,
      "outputs": [
        {
          "output_type": "stream",
          "name": "stdout",
          "text": [
            "Epoch 1/30\n",
            "469/469 - 5s - loss: 0.5683 - accuracy: 0.7917 - val_loss: 0.3876 - val_accuracy: 0.8580 - 5s/epoch - 10ms/step\n",
            "Epoch 2/30\n",
            "469/469 - 4s - loss: 0.3600 - accuracy: 0.8692 - val_loss: 0.3348 - val_accuracy: 0.8759 - 4s/epoch - 8ms/step\n",
            "Epoch 3/30\n",
            "469/469 - 4s - loss: 0.3159 - accuracy: 0.8838 - val_loss: 0.3058 - val_accuracy: 0.8864 - 4s/epoch - 8ms/step\n",
            "Epoch 4/30\n",
            "469/469 - 4s - loss: 0.2854 - accuracy: 0.8953 - val_loss: 0.2860 - val_accuracy: 0.8929 - 4s/epoch - 8ms/step\n",
            "Epoch 5/30\n",
            "469/469 - 4s - loss: 0.2641 - accuracy: 0.9012 - val_loss: 0.2883 - val_accuracy: 0.8948 - 4s/epoch - 8ms/step\n",
            "Epoch 6/30\n",
            "469/469 - 4s - loss: 0.2444 - accuracy: 0.9100 - val_loss: 0.2619 - val_accuracy: 0.9034 - 4s/epoch - 8ms/step\n",
            "Epoch 7/30\n",
            "469/469 - 4s - loss: 0.2324 - accuracy: 0.9140 - val_loss: 0.2616 - val_accuracy: 0.9045 - 4s/epoch - 8ms/step\n",
            "Epoch 8/30\n",
            "469/469 - 4s - loss: 0.2165 - accuracy: 0.9197 - val_loss: 0.2540 - val_accuracy: 0.9065 - 4s/epoch - 8ms/step\n",
            "Epoch 9/30\n",
            "469/469 - 4s - loss: 0.2023 - accuracy: 0.9240 - val_loss: 0.2506 - val_accuracy: 0.9099 - 4s/epoch - 8ms/step\n",
            "Epoch 10/30\n",
            "469/469 - 4s - loss: 0.1876 - accuracy: 0.9305 - val_loss: 0.2559 - val_accuracy: 0.9082 - 4s/epoch - 8ms/step\n",
            "Epoch 11/30\n",
            "469/469 - 4s - loss: 0.1778 - accuracy: 0.9329 - val_loss: 0.2430 - val_accuracy: 0.9123 - 4s/epoch - 8ms/step\n",
            "Epoch 12/30\n",
            "469/469 - 4s - loss: 0.1649 - accuracy: 0.9384 - val_loss: 0.2375 - val_accuracy: 0.9129 - 4s/epoch - 8ms/step\n",
            "Epoch 13/30\n",
            "469/469 - 4s - loss: 0.1559 - accuracy: 0.9421 - val_loss: 0.2518 - val_accuracy: 0.9101 - 4s/epoch - 8ms/step\n",
            "Epoch 14/30\n",
            "469/469 - 4s - loss: 0.1429 - accuracy: 0.9460 - val_loss: 0.2438 - val_accuracy: 0.9154 - 4s/epoch - 8ms/step\n",
            "Epoch 15/30\n",
            "469/469 - 4s - loss: 0.1399 - accuracy: 0.9477 - val_loss: 0.2437 - val_accuracy: 0.9190 - 4s/epoch - 8ms/step\n",
            "Epoch 16/30\n",
            "469/469 - 4s - loss: 0.1274 - accuracy: 0.9516 - val_loss: 0.2545 - val_accuracy: 0.9155 - 4s/epoch - 8ms/step\n",
            "Epoch 17/30\n",
            "469/469 - 4s - loss: 0.1182 - accuracy: 0.9556 - val_loss: 0.2502 - val_accuracy: 0.9156 - 4s/epoch - 8ms/step\n"
          ]
        }
      ]
    },
    {
      "cell_type": "markdown",
      "source": [
        "**Plot values of metrics you used in your model.**"
      ],
      "metadata": {
        "id": "f1Bhw2xn30-D"
      }
    },
    {
      "cell_type": "code",
      "source": [
        "summary = pd.DataFrame(classifier.history.history)\n",
        "summary.head()"
      ],
      "metadata": {
        "execution": {
          "iopub.status.busy": "2022-03-27T09:58:47.804287Z",
          "iopub.execute_input": "2022-03-27T09:58:47.804546Z",
          "iopub.status.idle": "2022-03-27T09:58:47.818816Z",
          "shell.execute_reply.started": "2022-03-27T09:58:47.804511Z",
          "shell.execute_reply": "2022-03-27T09:58:47.818121Z"
        },
        "trusted": true,
        "colab": {
          "base_uri": "https://localhost:8080/",
          "height": 206
        },
        "id": "SKRZXN4J30-D",
        "outputId": "ddd16081-d1dd-4154-b59f-d3ed312ae3f8"
      },
      "execution_count": 26,
      "outputs": [
        {
          "output_type": "execute_result",
          "data": {
            "text/plain": [
              "       loss  accuracy  val_loss  val_accuracy\n",
              "0  0.568305  0.791717  0.387585        0.8580\n",
              "1  0.359950  0.869217  0.334840        0.8759\n",
              "2  0.315931  0.883783  0.305845        0.8864\n",
              "3  0.285427  0.895333  0.286048        0.8929\n",
              "4  0.264091  0.901200  0.288327        0.8948"
            ],
            "text/html": [
              "\n",
              "  <div id=\"df-39e33f80-ebf1-4dd5-98ca-d283437c8ca3\">\n",
              "    <div class=\"colab-df-container\">\n",
              "      <div>\n",
              "<style scoped>\n",
              "    .dataframe tbody tr th:only-of-type {\n",
              "        vertical-align: middle;\n",
              "    }\n",
              "\n",
              "    .dataframe tbody tr th {\n",
              "        vertical-align: top;\n",
              "    }\n",
              "\n",
              "    .dataframe thead th {\n",
              "        text-align: right;\n",
              "    }\n",
              "</style>\n",
              "<table border=\"1\" class=\"dataframe\">\n",
              "  <thead>\n",
              "    <tr style=\"text-align: right;\">\n",
              "      <th></th>\n",
              "      <th>loss</th>\n",
              "      <th>accuracy</th>\n",
              "      <th>val_loss</th>\n",
              "      <th>val_accuracy</th>\n",
              "    </tr>\n",
              "  </thead>\n",
              "  <tbody>\n",
              "    <tr>\n",
              "      <th>0</th>\n",
              "      <td>0.568305</td>\n",
              "      <td>0.791717</td>\n",
              "      <td>0.387585</td>\n",
              "      <td>0.8580</td>\n",
              "    </tr>\n",
              "    <tr>\n",
              "      <th>1</th>\n",
              "      <td>0.359950</td>\n",
              "      <td>0.869217</td>\n",
              "      <td>0.334840</td>\n",
              "      <td>0.8759</td>\n",
              "    </tr>\n",
              "    <tr>\n",
              "      <th>2</th>\n",
              "      <td>0.315931</td>\n",
              "      <td>0.883783</td>\n",
              "      <td>0.305845</td>\n",
              "      <td>0.8864</td>\n",
              "    </tr>\n",
              "    <tr>\n",
              "      <th>3</th>\n",
              "      <td>0.285427</td>\n",
              "      <td>0.895333</td>\n",
              "      <td>0.286048</td>\n",
              "      <td>0.8929</td>\n",
              "    </tr>\n",
              "    <tr>\n",
              "      <th>4</th>\n",
              "      <td>0.264091</td>\n",
              "      <td>0.901200</td>\n",
              "      <td>0.288327</td>\n",
              "      <td>0.8948</td>\n",
              "    </tr>\n",
              "  </tbody>\n",
              "</table>\n",
              "</div>\n",
              "      <button class=\"colab-df-convert\" onclick=\"convertToInteractive('df-39e33f80-ebf1-4dd5-98ca-d283437c8ca3')\"\n",
              "              title=\"Convert this dataframe to an interactive table.\"\n",
              "              style=\"display:none;\">\n",
              "        \n",
              "  <svg xmlns=\"http://www.w3.org/2000/svg\" height=\"24px\"viewBox=\"0 0 24 24\"\n",
              "       width=\"24px\">\n",
              "    <path d=\"M0 0h24v24H0V0z\" fill=\"none\"/>\n",
              "    <path d=\"M18.56 5.44l.94 2.06.94-2.06 2.06-.94-2.06-.94-.94-2.06-.94 2.06-2.06.94zm-11 1L8.5 8.5l.94-2.06 2.06-.94-2.06-.94L8.5 2.5l-.94 2.06-2.06.94zm10 10l.94 2.06.94-2.06 2.06-.94-2.06-.94-.94-2.06-.94 2.06-2.06.94z\"/><path d=\"M17.41 7.96l-1.37-1.37c-.4-.4-.92-.59-1.43-.59-.52 0-1.04.2-1.43.59L10.3 9.45l-7.72 7.72c-.78.78-.78 2.05 0 2.83L4 21.41c.39.39.9.59 1.41.59.51 0 1.02-.2 1.41-.59l7.78-7.78 2.81-2.81c.8-.78.8-2.07 0-2.86zM5.41 20L4 18.59l7.72-7.72 1.47 1.35L5.41 20z\"/>\n",
              "  </svg>\n",
              "      </button>\n",
              "      \n",
              "  <style>\n",
              "    .colab-df-container {\n",
              "      display:flex;\n",
              "      flex-wrap:wrap;\n",
              "      gap: 12px;\n",
              "    }\n",
              "\n",
              "    .colab-df-convert {\n",
              "      background-color: #E8F0FE;\n",
              "      border: none;\n",
              "      border-radius: 50%;\n",
              "      cursor: pointer;\n",
              "      display: none;\n",
              "      fill: #1967D2;\n",
              "      height: 32px;\n",
              "      padding: 0 0 0 0;\n",
              "      width: 32px;\n",
              "    }\n",
              "\n",
              "    .colab-df-convert:hover {\n",
              "      background-color: #E2EBFA;\n",
              "      box-shadow: 0px 1px 2px rgba(60, 64, 67, 0.3), 0px 1px 3px 1px rgba(60, 64, 67, 0.15);\n",
              "      fill: #174EA6;\n",
              "    }\n",
              "\n",
              "    [theme=dark] .colab-df-convert {\n",
              "      background-color: #3B4455;\n",
              "      fill: #D2E3FC;\n",
              "    }\n",
              "\n",
              "    [theme=dark] .colab-df-convert:hover {\n",
              "      background-color: #434B5C;\n",
              "      box-shadow: 0px 1px 3px 1px rgba(0, 0, 0, 0.15);\n",
              "      filter: drop-shadow(0px 1px 2px rgba(0, 0, 0, 0.3));\n",
              "      fill: #FFFFFF;\n",
              "    }\n",
              "  </style>\n",
              "\n",
              "      <script>\n",
              "        const buttonEl =\n",
              "          document.querySelector('#df-39e33f80-ebf1-4dd5-98ca-d283437c8ca3 button.colab-df-convert');\n",
              "        buttonEl.style.display =\n",
              "          google.colab.kernel.accessAllowed ? 'block' : 'none';\n",
              "\n",
              "        async function convertToInteractive(key) {\n",
              "          const element = document.querySelector('#df-39e33f80-ebf1-4dd5-98ca-d283437c8ca3');\n",
              "          const dataTable =\n",
              "            await google.colab.kernel.invokeFunction('convertToInteractive',\n",
              "                                                     [key], {});\n",
              "          if (!dataTable) return;\n",
              "\n",
              "          const docLinkHtml = 'Like what you see? Visit the ' +\n",
              "            '<a target=\"_blank\" href=https://colab.research.google.com/notebooks/data_table.ipynb>data table notebook</a>'\n",
              "            + ' to learn more about interactive tables.';\n",
              "          element.innerHTML = '';\n",
              "          dataTable['output_type'] = 'display_data';\n",
              "          await google.colab.output.renderOutput(dataTable, element);\n",
              "          const docLink = document.createElement('div');\n",
              "          docLink.innerHTML = docLinkHtml;\n",
              "          element.appendChild(docLink);\n",
              "        }\n",
              "      </script>\n",
              "    </div>\n",
              "  </div>\n",
              "  "
            ]
          },
          "metadata": {},
          "execution_count": 26
        }
      ]
    },
    {
      "cell_type": "code",
      "source": [
        "plt.figure(figsize=(10,6))\n",
        "plt.plot(summary.loss, label=\"loss\")\n",
        "plt.plot(summary.val_loss, label=\"val_loss\")\n",
        "plt.legend(loc=\"upper right\")\n",
        "plt.ylabel(\"Loss\")\n",
        "plt.xlabel(\"Epoch\")\n",
        "plt.show()"
      ],
      "metadata": {
        "execution": {
          "iopub.status.busy": "2022-03-27T09:58:47.819892Z",
          "iopub.execute_input": "2022-03-27T09:58:47.820619Z",
          "iopub.status.idle": "2022-03-27T09:58:48.020406Z",
          "shell.execute_reply.started": "2022-03-27T09:58:47.820572Z",
          "shell.execute_reply": "2022-03-27T09:58:48.019670Z"
        },
        "trusted": true,
        "colab": {
          "base_uri": "https://localhost:8080/",
          "height": 388
        },
        "id": "kKIafai630-D",
        "outputId": "cacfcb06-4589-4272-ad89-4e2637c68ef4"
      },
      "execution_count": 27,
      "outputs": [
        {
          "output_type": "display_data",
          "data": {
            "text/plain": [
              "<Figure size 720x432 with 1 Axes>"
            ],
            "image/png": "[encoded data removed]"
          },
          "metadata": {
            "needs_background": "light"
          }
        }
      ]
    },
    {
      "cell_type": "markdown",
      "source": [
        "### Model Evaluation\n",
        "\n",
        "**Show the accuracy,precision,recall,f1-score the model achieved on the x_test data set.**"
      ],
      "metadata": {
        "id": "5YSo-i6A30-E"
      }
    },
    {
      "cell_type": "code",
      "source": [
        "from sklearn.metrics import classification_report,confusion_matrix"
      ],
      "metadata": {
        "execution": {
          "iopub.status.busy": "2022-03-27T09:58:48.025434Z",
          "iopub.execute_input": "2022-03-27T09:58:48.026286Z",
          "iopub.status.idle": "2022-03-27T09:58:48.166107Z",
          "shell.execute_reply.started": "2022-03-27T09:58:48.026243Z",
          "shell.execute_reply": "2022-03-27T09:58:48.165311Z"
        },
        "trusted": true,
        "id": "oGjLWg4m30-E"
      },
      "execution_count": 28,
      "outputs": []
    },
    {
      "cell_type": "code",
      "source": [
        "predict_x=classifier.predict(testX) \n",
        "classes_x=np.argmax(predict_x,axis=1)"
      ],
      "metadata": {
        "execution": {
          "iopub.status.busy": "2022-03-27T09:58:48.172360Z",
          "iopub.execute_input": "2022-03-27T09:58:48.172894Z",
          "iopub.status.idle": "2022-03-27T09:58:48.794815Z",
          "shell.execute_reply.started": "2022-03-27T09:58:48.172854Z",
          "shell.execute_reply": "2022-03-27T09:58:48.793794Z"
        },
        "trusted": true,
        "id": "gOub2PZR30-E"
      },
      "execution_count": 29,
      "outputs": []
    },
    {
      "cell_type": "code",
      "source": [
        "classes_x"
      ],
      "metadata": {
        "execution": {
          "iopub.status.busy": "2022-03-27T09:58:48.795963Z",
          "iopub.execute_input": "2022-03-27T09:58:48.796208Z",
          "iopub.status.idle": "2022-03-27T09:58:48.813910Z",
          "shell.execute_reply.started": "2022-03-27T09:58:48.796175Z",
          "shell.execute_reply": "2022-03-27T09:58:48.805417Z"
        },
        "trusted": true,
        "colab": {
          "base_uri": "https://localhost:8080/"
        },
        "id": "y-qcua9K30-E",
        "outputId": "e7f2f49e-dbc6-4ac5-b73d-8ecdfc0f83ec"
      },
      "execution_count": 30,
      "outputs": [
        {
          "output_type": "execute_result",
          "data": {
            "text/plain": [
              "array([9, 2, 1, ..., 8, 1, 5])"
            ]
          },
          "metadata": {},
          "execution_count": 30
        }
      ]
    },
    {
      "cell_type": "code",
      "source": [
        "print(classification_report(y_test, classes_x))"
      ],
      "metadata": {
        "execution": {
          "iopub.status.busy": "2022-03-27T09:58:48.816995Z",
          "iopub.execute_input": "2022-03-27T09:58:48.817578Z",
          "iopub.status.idle": "2022-03-27T09:58:48.860960Z",
          "shell.execute_reply.started": "2022-03-27T09:58:48.817545Z",
          "shell.execute_reply": "2022-03-27T09:58:48.860316Z"
        },
        "trusted": true,
        "colab": {
          "base_uri": "https://localhost:8080/"
        },
        "id": "QrIQrzYa30-E",
        "outputId": "ef051201-53eb-43b5-f347-f3317c6859d5"
      },
      "execution_count": 31,
      "outputs": [
        {
          "output_type": "stream",
          "name": "stdout",
          "text": [
            "              precision    recall  f1-score   support\n",
            "\n",
            "           0       0.84      0.86      0.85      1000\n",
            "           1       0.99      0.98      0.99      1000\n",
            "           2       0.85      0.90      0.87      1000\n",
            "           3       0.93      0.92      0.93      1000\n",
            "           4       0.86      0.88      0.87      1000\n",
            "           5       0.98      0.99      0.98      1000\n",
            "           6       0.78      0.71      0.74      1000\n",
            "           7       0.96      0.97      0.97      1000\n",
            "           8       0.97      0.98      0.97      1000\n",
            "           9       0.98      0.97      0.97      1000\n",
            "\n",
            "    accuracy                           0.92     10000\n",
            "   macro avg       0.91      0.92      0.91     10000\n",
            "weighted avg       0.91      0.92      0.91     10000\n",
            "\n"
          ]
        }
      ]
    },
    {
      "cell_type": "markdown",
      "source": [
        "# Prediction"
      ],
      "metadata": {
        "id": "RZ9_zMaD30-E"
      }
    },
    {
      "cell_type": "code",
      "source": [
        "classes = [\"T-shirt/top\",\n",
        "           \"Trouser\",\n",
        "           \"Pullover\",\n",
        "           \"Dress\",\n",
        "           \"Coat\",\n",
        "           \"Sandal\",\n",
        "           \"Shirt\",\n",
        "           \"Sneaker\",\n",
        "           \"Bag\",\n",
        "           \"Ankle boot\"]"
      ],
      "metadata": {
        "execution": {
          "iopub.status.busy": "2022-03-27T09:58:48.865565Z",
          "iopub.execute_input": "2022-03-27T09:58:48.868416Z",
          "iopub.status.idle": "2022-03-27T09:58:48.874757Z",
          "shell.execute_reply.started": "2022-03-27T09:58:48.868376Z",
          "shell.execute_reply": "2022-03-27T09:58:48.874026Z"
        },
        "trusted": true,
        "id": "5ElWl-cU30-F"
      },
      "execution_count": 32,
      "outputs": []
    },
    {
      "cell_type": "code",
      "source": [
        "my_image = testX[500]"
      ],
      "metadata": {
        "execution": {
          "iopub.status.busy": "2022-03-27T09:58:48.877448Z",
          "iopub.execute_input": "2022-03-27T09:58:48.878242Z",
          "iopub.status.idle": "2022-03-27T09:58:48.884091Z",
          "shell.execute_reply.started": "2022-03-27T09:58:48.878205Z",
          "shell.execute_reply": "2022-03-27T09:58:48.883350Z"
        },
        "trusted": true,
        "id": "mlM_GOMe30-F"
      },
      "execution_count": 33,
      "outputs": []
    },
    {
      "cell_type": "code",
      "source": [
        "my_image = np.expand_dims(my_image, axis=0)\n"
      ],
      "metadata": {
        "execution": {
          "iopub.status.busy": "2022-03-27T09:58:48.885462Z",
          "iopub.execute_input": "2022-03-27T09:58:48.886954Z",
          "iopub.status.idle": "2022-03-27T09:58:48.893983Z",
          "shell.execute_reply.started": "2022-03-27T09:58:48.886918Z",
          "shell.execute_reply": "2022-03-27T09:58:48.893265Z"
        },
        "trusted": true,
        "id": "byuWQ_Cn30-F"
      },
      "execution_count": 34,
      "outputs": []
    },
    {
      "cell_type": "code",
      "source": [
        "my_image.shape"
      ],
      "metadata": {
        "execution": {
          "iopub.status.busy": "2022-03-27T09:58:48.895298Z",
          "iopub.execute_input": "2022-03-27T09:58:48.895886Z",
          "iopub.status.idle": "2022-03-27T09:58:48.904188Z",
          "shell.execute_reply.started": "2022-03-27T09:58:48.895830Z",
          "shell.execute_reply": "2022-03-27T09:58:48.902990Z"
        },
        "trusted": true,
        "colab": {
          "base_uri": "https://localhost:8080/"
        },
        "id": "cbW4NaE430-F",
        "outputId": "a9b42294-59f8-42eb-a740-fcb77ac6fa96"
      },
      "execution_count": 35,
      "outputs": [
        {
          "output_type": "execute_result",
          "data": {
            "text/plain": [
              "(1, 28, 28, 1)"
            ]
          },
          "metadata": {},
          "execution_count": 35
        }
      ]
    },
    {
      "cell_type": "code",
      "source": [
        "result = classifier.predict(my_image).round().argmax()\n"
      ],
      "metadata": {
        "execution": {
          "iopub.status.busy": "2022-03-27T09:58:48.905637Z",
          "iopub.execute_input": "2022-03-27T09:58:48.906273Z",
          "iopub.status.idle": "2022-03-27T09:58:48.996568Z",
          "shell.execute_reply.started": "2022-03-27T09:58:48.906235Z",
          "shell.execute_reply": "2022-03-27T09:58:48.995844Z"
        },
        "trusted": true,
        "id": "E3Pir2W730-F"
      },
      "execution_count": 36,
      "outputs": []
    },
    {
      "cell_type": "code",
      "source": [
        "classes[int(result)]"
      ],
      "metadata": {
        "execution": {
          "iopub.status.busy": "2022-03-27T09:58:50.339229Z",
          "iopub.execute_input": "2022-03-27T09:58:50.339445Z",
          "iopub.status.idle": "2022-03-27T09:58:50.345222Z",
          "shell.execute_reply.started": "2022-03-27T09:58:50.339415Z",
          "shell.execute_reply": "2022-03-27T09:58:50.344570Z"
        },
        "trusted": true,
        "colab": {
          "base_uri": "https://localhost:8080/",
          "height": 35
        },
        "id": "QElETaVk30-G",
        "outputId": "478745f6-4021-434f-e14a-67984f92b42c"
      },
      "execution_count": 37,
      "outputs": [
        {
          "output_type": "execute_result",
          "data": {
            "text/plain": [
              "'Pullover'"
            ],
            "application/vnd.google.colaboratory.intrinsic+json": {
              "type": "string"
            }
          },
          "metadata": {},
          "execution_count": 37
        }
      ]
    },
    {
      "cell_type": "code",
      "source": [
        "L = 5\n",
        "W = 5\n",
        "fig, axes = plt.subplots(L, W, figsize = (12,12))\n",
        "axes = axes.ravel()\n",
        "\n",
        "for i in np.arange(0, L * W):  \n",
        "    axes[i].imshow(x_test[i].reshape(28,28),cmap=\"gray\")\n",
        "    axes[i].set_title(f\"Prediction Class = {classes_x[i]:0.1f}\\n Original Class = {y_test[i]:0.1f}\")\n",
        "    axes[i].axis('off')\n",
        "\n",
        "plt.subplots_adjust(wspace=0.5)"
      ],
      "metadata": {
        "execution": {
          "iopub.status.busy": "2022-03-27T09:58:49.001479Z",
          "iopub.execute_input": "2022-03-27T09:58:49.001937Z",
          "iopub.status.idle": "2022-03-27T09:58:50.338251Z",
          "shell.execute_reply.started": "2022-03-27T09:58:49.001903Z",
          "shell.execute_reply": "2022-03-27T09:58:50.336382Z"
        },
        "trusted": true,
        "colab": {
          "base_uri": "https://localhost:8080/",
          "height": 697
        },
        "id": "CSwLoZjb30-G",
        "outputId": "8d122d1c-918b-40a2-d353-7536a2659c11"
      },
      "execution_count": 38,
      "outputs": [
        {
          "output_type": "display_data",
          "data": {
            "text/plain": [
              "<Figure size 864x864 with 25 Axes>"
            ],
            "image/png": "[encoded data removed]"
          },
          "metadata": {
            "needs_background": "light"
          }
        }
      ]
    },
    {
      "cell_type": "code",
      "source": [
        ""
      ],
      "metadata": {
        "id": "GrXBptee30-G"
      },
      "execution_count": 38,
      "outputs": []
    }
  ]
}